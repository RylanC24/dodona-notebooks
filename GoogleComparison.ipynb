{
 "cells": [
  {
   "cell_type": "code",
   "execution_count": 1,
   "metadata": {
    "collapsed": true
   },
   "outputs": [],
   "source": [
    "from donut import *\n",
    "import random\n",
    "import pickle\n",
    "import math\n",
    "import matplotlib.pyplot as plt\n",
    "import matplotlib as mpl\n",
    "from matplotlib.backends.backend_pdf import PdfPages \n",
    "%matplotlib inline\n"
   ]
  },
  {
   "cell_type": "code",
   "execution_count": 2,
   "metadata": {
    "collapsed": true
   },
   "outputs": [],
   "source": [
    "random.seed()\n",
    "randSeed = random.randint(0,1000000)\n",
    "\n",
    "w = cruller.WordList()\n",
    "w.LoadFromFile(\"/Users/Rylan/cisc/creamTeam/wordLists/WordList_100000_combined_check.dat\")\n",
    "w = sprinkles.MostCommon(w,20000)\n",
    "w.SetSeed(randSeed)\n",
    "\n",
    "k = bearclaw.MakeStandardKeyboard()\n",
    "k.SetSeed(randSeed)\n",
    "k.RemoveKey('.')\n",
    "kStan = k\n",
    "\n",
    "ivL = 100\n",
    "model = []\n",
    "for i in range(5):\n",
    "    model.append(cruller.SimpleInterpolationModel())\n",
    "    model[i].SetXScale(0.75)\n",
    "    model[i].SetYScale(0.5)\n",
    "    model[i].SetCorrelation(0.0)\n",
    "    model[i].SetVectorLength(ivL)\n",
    "    model[i].SetSeed(random.randint(0,1000000))\n",
    "\n",
    "\n",
    "model[1].Interpolation = cruller.CubicSplineInterpolation\n",
    "model[2].Interpolation = cruller.ModCubicSplineInterpolation\n",
    "model[3].Interpolation = cruller.MonotonicCubicSplineInterpolation\n",
    "model[4].Interpolation = cruller.HermiteCubicSplineInterpolation"
   ]
  },
  {
   "cell_type": "code",
   "execution_count": null,
   "metadata": {
    "collapsed": true
   },
   "outputs": [],
   "source": [
    "radix_steps = 25\n",
    "eff_iterations = 5000"
   ]
  }
 ],
 "metadata": {
  "kernelspec": {
   "display_name": "Python 3",
   "language": "python",
   "name": "python3"
  },
  "language_info": {
   "codemirror_mode": {
    "name": "ipython",
    "version": 3
   },
   "file_extension": ".py",
   "mimetype": "text/x-python",
   "name": "python",
   "nbconvert_exporter": "python",
   "pygments_lexer": "ipython3",
   "version": "3.4.3"
  }
 },
 "nbformat": 4,
 "nbformat_minor": 0
}
