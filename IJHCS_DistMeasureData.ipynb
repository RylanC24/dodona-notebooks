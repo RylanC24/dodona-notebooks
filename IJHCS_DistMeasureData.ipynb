{
 "cells": [
  {
   "cell_type": "code",
   "execution_count": 31,
   "metadata": {
    "collapsed": false
   },
   "outputs": [
    {
     "data": {
      "image/png": "[encoded data removed]",
      "text/plain": [
       "<matplotlib.figure.Figure at 0x10c2f12e8>"
      ]
     },
     "metadata": {},
     "output_type": "display_data"
    }
   ],
   "source": [
    "from donut import *\n",
    "import math\n",
    "import statistics\n",
    "import matplotlib.pyplot as plt\n",
    "from matplotlib.colors import LogNorm\n",
    "from pylab import *\n",
    "import os\n",
    "\n",
    "%matplotlib inline\n",
    "\n",
    "import seaborn as sns\n",
    "cp = [\"#8e0152\",\"#de77ae\",\"#f1b6da\",\"#4d9221\",\"#276419\"]\n",
    "cm = \"#8e0152\"\n",
    "cg = \"#276419\"\n",
    "sns.palplot(sns.color_palette(cp, 5))\n",
    "sns.set(style='ticks',palette=cp)\n",
    "\n",
    "w = cruller.WordList()\n",
    "w.LoadFromFile(\"/Users/Rylan/cisc/creamTeam/wordLists/WordList_100000_combined_check.dat\")\n",
    "\n",
    "k = bearclaw.MakeStandardKeyboard()\n",
    "k.RemoveKey('.')\n",
    "kStan = k"
   ]
  },
  {
   "cell_type": "code",
   "execution_count": 2,
   "metadata": {
    "collapsed": false
   },
   "outputs": [
    {
     "name": "stdout",
     "output_type": "stream",
     "text": [
      "/Users/Rylan/cisc/creamTeam/donutData/IJHCS/distStudy/IJHCS_mcCart_vs_mcNN_cart.dat\n",
      "/Users/Rylan/cisc/creamTeam/donutData/IJHCS/distStudy/IJHCS_mcCart_vs_mcNN_nn.dat\n",
      "\n",
      "{'distancemeasure': 'cart dist with spatial interp', 'wordlistname': 'google_20k', 'inputmodel': 'spatial interpolation', 'wordlist': <donut.cruller.WordList object at 0x7f81d1e02c18>}\n",
      "{'distancemeasure': 'fann net with spatial interp', 'wordlistname': 'google_20k', 'inputmodel': 'spatial interpolation', 'wordlist': <donut.cruller.WordList object at 0x7f81d4836418>}\n",
      "\n",
      "{'spatial': <donut.cruller.FitnessResult object at 0x10b72a5e8>} \n",
      "\n",
      "cart_data length = 20 \n",
      "nn_data length = 20\n"
     ]
    }
   ],
   "source": [
    "# Read in the data from the files\n",
    "\n",
    "cart_filename = \"/Users/Rylan/cisc/creamTeam/donutData/IJHCS/distStudy/IJHCS_mcCart_vs_mcNN_cart.dat\"\n",
    "nn_filename = \"/Users/Rylan/cisc/creamTeam/donutData/IJHCS/distStudy/IJHCS_mcCart_vs_mcNN_nn.dat\"\n",
    "\n",
    "if os.path.exists(cart_filename) and os.path.exists(nn_filename):\n",
    "    print(cart_filename, '\\n', nn_filename, sep='')\n",
    "    cart_dat, nn_dat = cruller.TrainingDataFileFormat(), cruller.TrainingDataFileFormat()\n",
    "    nn_dat.LoadFromFile(nn_filename)\n",
    "    cart_dat.LoadFromFile(cart_filename)\n",
    "    \n",
    "cart_meta, cart_data = cart_dat.PythonData()\n",
    "nn_meta, nn_data = nn_dat.PythonData()\n",
    "\n",
    "print('\\n',cart_meta,'\\n',nn_meta,'\\n',sep='')\n",
    "keyboard, d = cart_data[0]\n",
    "print(d,'\\n')\n",
    "print('cart_data length =', len(cart_data), '\\nnn_data length =', len(nn_data)) "
   ]
  },
  {
   "cell_type": "code",
   "execution_count": 4,
   "metadata": {
    "collapsed": false
   },
   "outputs": [
    {
     "name": "stdout",
     "output_type": "stream",
     "text": [
      "0.843 +/- 0.012   0.827 +/- 0.012   1\n",
      "0.882 +/- 0.010   0.831 +/- 0.012   1\n",
      "0.853 +/- 0.011   0.769 +/- 0.013   1\n",
      "0.884 +/- 0.010   0.785 +/- 0.013   1\n",
      "0.871 +/- 0.011   0.808 +/- 0.012   1\n",
      "0.882 +/- 0.010   0.840 +/- 0.012   1\n",
      "0.836 +/- 0.012   0.770 +/- 0.013   1\n",
      "0.875 +/- 0.010   0.834 +/- 0.012   1\n",
      "0.855 +/- 0.011   0.782 +/- 0.013   1\n",
      "0.861 +/- 0.011   0.798 +/- 0.013   1\n",
      "0.870 +/- 0.011   0.803 +/- 0.013   1\n",
      "0.877 +/- 0.010   0.791 +/- 0.013   1\n",
      "0.855 +/- 0.011   0.790 +/- 0.013   1\n",
      "0.862 +/- 0.011   0.809 +/- 0.012   1\n",
      "0.866 +/- 0.011   0.832 +/- 0.012   1\n",
      "0.882 +/- 0.010   0.791 +/- 0.013   1\n",
      "0.881 +/- 0.010   0.828 +/- 0.012   1\n",
      "0.875 +/- 0.010   0.829 +/- 0.012   1\n",
      "0.880 +/- 0.010   0.823 +/- 0.012   1\n",
      "0.876 +/- 0.010   0.820 +/- 0.012   1\n",
      "\n"
     ]
    }
   ],
   "source": [
    "# Extract the efficiency values and corresponding errors\n",
    "\n",
    "cart_effs, nn_effs, cart_errors, nn_errors, cart_keyboards, nn_keyboards = [],[],[],[],[],[]\n",
    "\n",
    "if len(cart_data) == len(nn_data):\n",
    "    for i in range(len(cart_data)):\n",
    "        cart_keyboard, cart_d = cart_data[i]\n",
    "        cart_keyboards.append(cart_keyboard)\n",
    "        cart_effs.append(cart_d['spatial'].Fitness())\n",
    "        cart_errors.append(cart_d['spatial'].Error())\n",
    "        \n",
    "        nn_keyboard, nn_d = nn_data[i]\n",
    "        nn_keyboards.append(nn_keyboard)\n",
    "        nn_effs.append(nn_d['spatial'].Fitness())\n",
    "        nn_errors.append(nn_d['spatial'].Error())\n",
    "\n",
    "[print(\"%.3f +/- %.3f   %.3f +/- %.3f   %d\" % (nn_eff, nn_error, cart_eff, cart_error, nn_eff > cart_eff)) for nn_eff, cart_eff, nn_error, cart_error in zip(nn_effs,cart_effs,nn_errors,cart_errors)]\n",
    "print()"
   ]
  },
  {
   "cell_type": "code",
   "execution_count": 5,
   "metadata": {
    "collapsed": false
   },
   "outputs": [
    {
     "name": "stdout",
     "output_type": "stream",
     "text": [
      "All keyboards match\n"
     ]
    }
   ],
   "source": [
    "# Check to make sure the nn and cart data points correspond to the same keyboards\n",
    "\n",
    "keyboard_check = True\n",
    "for i in range(len(cart_keyboards)):\n",
    "    cart_k = ''.join(cart_keyboards[i].OrderedKeyList())\n",
    "    nn_k = ''.join(nn_keyboards[i].OrderedKeyList())\n",
    "    if cart_k != nn_k:\n",
    "        print('ERROR: Keyboards don\\'n match')\n",
    "        keyboard_check = False\n",
    "        break\n",
    "    \n",
    "if keyboard_check:\n",
    "    print('All keyboards match')"
   ]
  },
  {
   "cell_type": "code",
   "execution_count": 43,
   "metadata": {
    "collapsed": false
   },
   "outputs": [
    {
     "name": "stdout",
     "output_type": "stream",
     "text": [
      "Average Efficiencies\n",
      "NN:    0.8683 +/- 0.003046391307760711\n",
      "Cart:  0.808 +/- 0.004892340952959017 \n",
      "\n",
      "Average Error Rates\n",
      "NN:    0.1317 +/- 0.003046391307760711\n",
      "Cart:  0.192 +/- 0.004892340952959017\n"
     ]
    }
   ],
   "source": [
    "# Calculate the average efficiency for the nn_dist and cart_dist methods and transform into error rates\n",
    "\n",
    "avg_nn_eff = sum(nn_effs)/len(nn_effs)\n",
    "avg_nn_error = statistics.pstdev(nn_effs)/math.sqrt(len(nn_effs))\n",
    "                                                    \n",
    "avg_cart_eff = sum(cart_effs)/len(cart_effs)\n",
    "avg_cart_error = statistics.pstdev(cart_effs)/math.sqrt(len(cart_effs))\n",
    "\n",
    "nn_error_rates = [1-x for x in nn_effs]\n",
    "cart_error_rates = [1-x for x in cart_effs]\n",
    "avg_nn_error_rate = 1 - avg_nn_eff\n",
    "avg_cart_error_rate = 1 - avg_cart_eff\n",
    "\n",
    "print('Average Efficiencies')\n",
    "print('NN:   ', avg_nn_eff, '+/-', avg_nn_error)\n",
    "print('Cart: ', avg_cart_eff, '+/-', avg_cart_error, '\\n')\n",
    "print('Average Error Rates')\n",
    "print('NN:   ', avg_nn_error_rate, '+/-', avg_nn_error)\n",
    "print('Cart: ', avg_cart_error_rate, '+/-', avg_cart_error)"
   ]
  },
  {
   "cell_type": "code",
   "execution_count": 52,
   "metadata": {
    "collapsed": false
   },
   "outputs": [
    {
     "data": {
      "text/plain": [
       "<Container object of 3 artists>"
      ]
     },
     "execution_count": 52,
     "metadata": {},
     "output_type": "execute_result"
    },
    {
     "data": {
      "image/png": "[encoded data removed]",
      "text/plain": [
       "<matplotlib.figure.Figure at 0x10d8f87b8>"
      ]
     },
     "metadata": {},
     "output_type": "display_data"
    }
   ],
   "source": [
    "# Plot the data\n",
    "\n",
    "ll, ul = 0.1, 0.25\n",
    "lfs = 15\n",
    "\n",
    "plt.figure(figsize=(8,8))\n",
    "plt.gca().set_aspect('equal', adjustable='box')\n",
    "plt.xlim([ll,ul])\n",
    "plt.ylim([ll,ul])\n",
    "plt.xlabel('Proportional Shape Matching', fontsize=lfs)\n",
    "plt.ylabel('Neural Network Distance', fontsize=lfs)\n",
    "plt.title('Error Rates', fontsize=lfs*1.3, y=1.03)\n",
    "plot([ll,ul],[ll,ul],ls='--',lw=2,alpha=0.5,color='black')\n",
    "plt.errorbar(cart_error_rates, nn_error_rates, xerr=cart_errors, yerr=nn_errors, color=cm, fmt='.', lw=1, alpha=0.5)\n",
    "plt.errorbar(avg_cart_error_rate, avg_nn_error_rate, xerr=avg_cart_error, yerr=avg_nn_error, color=cg, fmt='o', ms=7, lw=2)"
   ]
  },
  {
   "cell_type": "code",
   "execution_count": null,
   "metadata": {
    "collapsed": true
   },
   "outputs": [],
   "source": []
  }
 ],
 "metadata": {
  "kernelspec": {
   "display_name": "Python 3",
   "language": "python",
   "name": "python3"
  },
  "language_info": {
   "codemirror_mode": {
    "name": "ipython",
    "version": 3
   },
   "file_extension": ".py",
   "mimetype": "text/x-python",
   "name": "python",
   "nbconvert_exporter": "python",
   "pygments_lexer": "ipython3",
   "version": "3.4.4"
  }
 },
 "nbformat": 4,
 "nbformat_minor": 0
}
