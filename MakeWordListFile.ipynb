{
 "metadata": {
  "name": "",
  "signature": "sha256:1623cabf1fb6605b8ccc97959329aaea5f84ee37b9bb88f1ae8238a335f49b2e"
 },
 "nbformat": 3,
 "nbformat_minor": 0,
 "worksheets": [
  {
   "cells": [
    {
     "cell_type": "code",
     "collapsed": false,
     "input": [
      "from donut import *\n",
      "w = cruller.WordList()\n",
      "w.LoadFromFile(\"/Users/Rylan/cisc/creamTeam/wordLists/WordList_100000_combined_check.dat\")\n",
      "nWords = 500\n",
      "w = sprinkles.MostCommon(w,nWords)"
     ],
     "language": "python",
     "metadata": {},
     "outputs": [],
     "prompt_number": 18
    },
    {
     "cell_type": "code",
     "collapsed": false,
     "input": [
      "w.SaveToFile(\"/Users/Rylan/cisc/creamTeam/wordLists/WordList_\"+str(nWords)+\"_combined_check.dat\")"
     ],
     "language": "python",
     "metadata": {},
     "outputs": [],
     "prompt_number": 19
    },
    {
     "cell_type": "code",
     "collapsed": false,
     "input": [
      "[95881,90000,70000,50000,40000,30000,20000,15000,10000,5000,3000,1000,500]"
     ],
     "language": "python",
     "metadata": {},
     "outputs": []
    }
   ],
   "metadata": {}
  }
 ]
}