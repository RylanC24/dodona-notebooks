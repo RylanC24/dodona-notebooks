{
 "metadata": {
  "name": "",
  "signature": "sha256:2afb7722863652fe81b3c6eb6a8811fd9ecf44a48ff6ceedf93ce575c72ac4c3"
 },
 "nbformat": 3,
 "nbformat_minor": 0,
 "worksheets": [
  {
   "cells": [
    {
     "cell_type": "code",
     "collapsed": false,
     "input": [
      "from donut import *\n",
      "import random\n",
      "import pickle\n",
      "import math\n",
      "import matplotlib.pyplot as plt\n",
      "import matplotlib as mpl\n",
      "%matplotlib inline\n",
      "\n",
      "#randSeed = int(random.random()*100000)\n",
      "randSeed = random.randint(0,1000000)\n",
      "\n",
      "w = cruller.WordList()\n",
      "w.LoadFromFile(\"/Users/Rylan/cisc/creamTeam/wordLists/WordList_100000_combined_check.dat\")\n",
      "w = sprinkles.MostCommon(w,20000)\n",
      "w.SetSeed(randSeed)\n",
      "\n",
      "k = bearclaw.MakeStandardKeyboard()\n",
      "k.SetSeed(randSeed)\n",
      "k.RemoveKey('.')\n",
      "kStan = k\n",
      "\n",
      "ivL = 25\n",
      "nIt = 20\n",
      "Xscale = 0.75\n",
      "Yscale = 0.5\n",
      "corr = 0.0\n",
      "\n",
      "#NN and training set details\n",
      "nData = 625000\n",
      "nInputs = 11\n",
      "nOut = 1\n",
      "fracSame = 0.5\n",
      "fracRand = 0.0"
     ],
     "language": "python",
     "metadata": {},
     "outputs": [],
     "prompt_number": 9
    },
    {
     "cell_type": "code",
     "collapsed": false,
     "input": [
      "model = []\n",
      "\n",
      "for i in range(5):\n",
      "    model.append(cruller.SimpleInterpolationModel())\n",
      "    model[i].SetXScale(Xscale)\n",
      "    model[i].SetYScale(Yscale)\n",
      "    model[i].SetCorrelation(corr)\n",
      "    model[i].SetVectorLength(ivL)\n",
      "    model[i].SetSeed(randSeed+i)\n",
      "\n",
      "model[0].Interpolation = cruller.CubicSplineInterpolation\n",
      "model[1].Interpolation = cruller.ModCubicSplineInterpolation\n",
      "model[2].Interpolation = cruller.HermiteCubicSplineInterpolation\n",
      "model[3].Interpolation = cruller.MonotonicCubicSplineInterpolation\n",
      "model[4].Interpolation = cruller.SpatialInterpolation\n",
      "\n",
      "modelL = cruller.SimpleInterpolationModel()\n",
      "modelL.SetVectorLength(ivL)"
     ],
     "language": "python",
     "metadata": {},
     "outputs": [],
     "prompt_number": 10
    },
    {
     "cell_type": "code",
     "collapsed": false,
     "input": [
      "bearclaw.DrawKeyboard(k,inputvector=model[0].RandomVector(\"hello\",k),perfectvector=modelL.PerfectVector(\"hello\",k),frequencymap=\"hello\",colormap=mpl.cm.Reds,figsize=(8,4),nopalette=True)"
     ],
     "language": "python",
     "metadata": {},
     "outputs": [
      {
       "metadata": {},
       "output_type": "display_data",
       "png": "[encoded data removed]",
       "text": [
        "<matplotlib.figure.Figure at 0x102ca5240>"
       ]
      }
     ],
     "prompt_number": 11
    },
    {
     "cell_type": "code",
     "collapsed": false,
     "input": [
      "def possibilities(word,k):\n",
      "    matches = []\n",
      "    for i in range(nIt):\n",
      "        iv = model[0].RandomVector(word,k)\n",
      "        try:\n",
      "            matches += w.SubstringMatches(iv.StringForm(k))\n",
      "        except:\n",
      "            print()\n",
      "            print(i)\n",
      "            print(word)            \n",
      "    return list(set(matches))"
     ],
     "language": "python",
     "metadata": {},
     "outputs": [],
     "prompt_number": 12
    },
    {
     "cell_type": "code",
     "collapsed": false,
     "input": [
      "trainingSet = []\n",
      "modelN = [0,0,0,0,0]\n",
      "\n",
      "from datetime import datetime\n",
      "\n",
      "nMatch,match,wzero = 0,0,0\n",
      "t1 = datetime.now()\n",
      "for i in range(nData):\n",
      "    if(i%20000==0):\n",
      "        print(datetime.now()-t1)\n",
      "        print(str(i)+\" input sets computed\")\n",
      "    w1 = w.RandomWord()\n",
      "    k.Randomize()\n",
      "    randN = random.random()\n",
      "    j = random.randint(0,len(model)-1)\n",
      "    iv1 = model[j].RandomVector(w1,k)\n",
      "    modelN[j]+=1\n",
      "    \n",
      "    wlist = possibilities(w1,k)\n",
      "    if (len(wlist) == 0):\n",
      "        ivP = modelL.PerfectVector(w1,k)\n",
      "        trainingSet.append((1,cruller.CreateNeuralNetworkInputs(iv1,ivP)))\n",
      "        wzero+=1\n",
      "    else:        \n",
      "        if w1 in wlist:\n",
      "            match+=1\n",
      "        else:\n",
      "            nMatch+=1\n",
      "        for w2 in wlist:\n",
      "            ivP = modelL.PerfectVector(w2,k)\n",
      "            if w2 == w1:\n",
      "                trainingSet.append((1,cruller.CreateNeuralNetworkInputs(iv1,ivP)))        \n",
      "            else:\n",
      "                trainingSet.append((0,cruller.CreateNeuralNetworkInputs(iv1,ivP)))\n",
      "\n",
      "print(datetime.now()-t1)"
     ],
     "language": "python",
     "metadata": {},
     "outputs": [
      {
       "output_type": "stream",
       "stream": "stdout",
       "text": [
        "0:00:00.000600\n",
        "0 input sets computed\n",
        "0:04:42.352064"
       ]
      },
      {
       "output_type": "stream",
       "stream": "stdout",
       "text": [
        "\n",
        "20000 input sets computed\n",
        "0:09:15.827466"
       ]
      },
      {
       "output_type": "stream",
       "stream": "stdout",
       "text": [
        "\n",
        "40000 input sets computed\n",
        "0:13:46.466069"
       ]
      },
      {
       "output_type": "stream",
       "stream": "stdout",
       "text": [
        "\n",
        "60000 input sets computed\n",
        "0:18:26.287176"
       ]
      },
      {
       "output_type": "stream",
       "stream": "stdout",
       "text": [
        "\n",
        "80000 input sets computed\n",
        "0:23:03.864592"
       ]
      },
      {
       "output_type": "stream",
       "stream": "stdout",
       "text": [
        "\n",
        "100000 input sets computed\n",
        "0:27:37.405795"
       ]
      },
      {
       "output_type": "stream",
       "stream": "stdout",
       "text": [
        "\n",
        "120000 input sets computed\n",
        "0:32:12.200467"
       ]
      },
      {
       "output_type": "stream",
       "stream": "stdout",
       "text": [
        "\n",
        "140000 input sets computed\n",
        "0:36:44.417302"
       ]
      },
      {
       "output_type": "stream",
       "stream": "stdout",
       "text": [
        "\n",
        "160000 input sets computed\n",
        "0:41:19.274891"
       ]
      },
      {
       "output_type": "stream",
       "stream": "stdout",
       "text": [
        "\n",
        "180000 input sets computed\n",
        "0:45:51.925825"
       ]
      },
      {
       "output_type": "stream",
       "stream": "stdout",
       "text": [
        "\n",
        "200000 input sets computed\n",
        "0:50:29.338753"
       ]
      },
      {
       "output_type": "stream",
       "stream": "stdout",
       "text": [
        "\n",
        "220000 input sets computed\n",
        "0:55:02.049023"
       ]
      },
      {
       "output_type": "stream",
       "stream": "stdout",
       "text": [
        "\n",
        "240000 input sets computed\n",
        "0:59:45.610828"
       ]
      },
      {
       "output_type": "stream",
       "stream": "stdout",
       "text": [
        "\n",
        "260000 input sets computed\n",
        "1:04:15.594500"
       ]
      },
      {
       "output_type": "stream",
       "stream": "stdout",
       "text": [
        "\n",
        "280000 input sets computed\n",
        "1:08:35.230405"
       ]
      },
      {
       "output_type": "stream",
       "stream": "stdout",
       "text": [
        "\n",
        "300000 input sets computed\n",
        "1:12:59.097534"
       ]
      },
      {
       "output_type": "stream",
       "stream": "stdout",
       "text": [
        "\n",
        "320000 input sets computed\n",
        "1:17:33.467710"
       ]
      },
      {
       "output_type": "stream",
       "stream": "stdout",
       "text": [
        "\n",
        "340000 input sets computed\n",
        "1:21:59.707751"
       ]
      },
      {
       "output_type": "stream",
       "stream": "stdout",
       "text": [
        "\n",
        "360000 input sets computed\n",
        "1:26:31.659112"
       ]
      },
      {
       "output_type": "stream",
       "stream": "stdout",
       "text": [
        "\n",
        "380000 input sets computed\n",
        "1:31:03.799680"
       ]
      },
      {
       "output_type": "stream",
       "stream": "stdout",
       "text": [
        "\n",
        "400000 input sets computed\n",
        "1:36:02.643795"
       ]
      },
      {
       "output_type": "stream",
       "stream": "stdout",
       "text": [
        "\n",
        "420000 input sets computed\n",
        "1:40:39.334971"
       ]
      },
      {
       "output_type": "stream",
       "stream": "stdout",
       "text": [
        "\n",
        "440000 input sets computed\n",
        "1:45:15.101062"
       ]
      },
      {
       "output_type": "stream",
       "stream": "stdout",
       "text": [
        "\n",
        "460000 input sets computed\n",
        "1:49:55.266653"
       ]
      },
      {
       "output_type": "stream",
       "stream": "stdout",
       "text": [
        "\n",
        "480000 input sets computed\n",
        "1:54:32.228816"
       ]
      },
      {
       "output_type": "stream",
       "stream": "stdout",
       "text": [
        "\n",
        "500000 input sets computed\n",
        "1:59:43.788821"
       ]
      },
      {
       "output_type": "stream",
       "stream": "stdout",
       "text": [
        "\n",
        "520000 input sets computed\n",
        "2:04:20.971894"
       ]
      },
      {
       "output_type": "stream",
       "stream": "stdout",
       "text": [
        "\n",
        "540000 input sets computed\n",
        "2:08:52.471458"
       ]
      },
      {
       "output_type": "stream",
       "stream": "stdout",
       "text": [
        "\n",
        "560000 input sets computed\n",
        "2:13:00.982546"
       ]
      },
      {
       "output_type": "stream",
       "stream": "stdout",
       "text": [
        "\n",
        "580000 input sets computed\n",
        "2:17:11.249382"
       ]
      },
      {
       "output_type": "stream",
       "stream": "stdout",
       "text": [
        "\n",
        "600000 input sets computed\n",
        "2:21:23.198878"
       ]
      },
      {
       "output_type": "stream",
       "stream": "stdout",
       "text": [
        "\n",
        "620000 input sets computed\n",
        "2:22:24.606967"
       ]
      },
      {
       "output_type": "stream",
       "stream": "stdout",
       "text": [
        "\n"
       ]
      }
     ],
     "prompt_number": 13
    },
    {
     "cell_type": "code",
     "collapsed": false,
     "input": [
      "print(\"Total Size:     \",len(trainingSet))\n",
      "print(\"wlist = 0:      \",wzero)\n",
      "print(\"w1 in wlist:    \",match)\n",
      "print(\"w1 not in wlist:\",nMatch)\n",
      "print(\"All together:   \",wzero+match+nMatch)\n",
      "\n",
      "listM = [ i for i in range(len(trainingSet)) if trainingSet[i][0]==1]\n",
      "listNM = [ i for i in range(len(trainingSet)) if trainingSet[i][0]==0]\n",
      "print(\"\\nTotal Matching Pairs:    \",len(listM))\n",
      "print(\"Total Non-Matching Pairs:\",len(listNM))\n",
      "print(\"\\nAverage RadixList size:\",len(trainingSet)/(match+nMatch))\n",
      "nData = len(trainingSet)"
     ],
     "language": "python",
     "metadata": {},
     "outputs": [
      {
       "output_type": "stream",
       "stream": "stdout",
       "text": [
        "Total Size:      10116127\n",
        "wlist = 0:       1\n",
        "w1 in wlist:     571426\n",
        "w1 not in wlist: 53573\n",
        "All together:    625000\n",
        "\n",
        "Total Matching Pairs:    "
       ]
      },
      {
       "output_type": "stream",
       "stream": "stdout",
       "text": [
        " 571427\n",
        "Total Non-Matching Pairs: 9544700\n",
        "\n",
        "Average RadixList size: 16.185829097326554\n"
       ]
      }
     ],
     "prompt_number": 14
    },
    {
     "cell_type": "code",
     "collapsed": false,
     "input": [
      "import os\n",
      "outname = '/Users/Rylan/cisc/creamTeam/FANN/trainingData/ivL'+str(ivL)+'/'\n",
      "filename = 'fann_trainingSet_RadixHLIv4_ivL25_5interps_10116k_onlyRadixPairs_WLmc20k_RandInterps.txt'\n",
      "#filename = 'test.txt'\n",
      "outname += filename\n",
      "\n",
      "if not os.path.exists(outname):\n",
      "    fout = open(outname, 'w')\n",
      "else:\n",
      "    print(\"Nice try, this filename already exists\")"
     ],
     "language": "python",
     "metadata": {},
     "outputs": [],
     "prompt_number": 15
    },
    {
     "cell_type": "code",
     "collapsed": false,
     "input": [
      "inString = str(nData)+\" \"+str(nInputs)+\" \"+str(nOut)+\"\\n\"\n",
      "fout.write(inString)\n",
      "\n",
      "for i in range(nData):\n",
      "    inString = \"\"\n",
      "    for j in range(nInputs-1):\n",
      "        inString += str(trainingSet[i][1][j])+\" \"\n",
      "    inString += str(trainingSet[i][1][nInputs-1])+\"\\n\"\n",
      "    fout.write(inString)\n",
      "    if(trainingSet[i][0] == 1):\n",
      "        fout.write(str(trainingSet[i][0])+\"\\n\")\n",
      "    else:\n",
      "        fout.write(str(0)+\"\\n\")\n",
      "        \n",
      "fout.close()   "
     ],
     "language": "python",
     "metadata": {},
     "outputs": [],
     "prompt_number": 16
    },
    {
     "cell_type": "code",
     "collapsed": false,
     "input": [],
     "language": "python",
     "metadata": {},
     "outputs": [],
     "prompt_number": 7
    }
   ],
   "metadata": {}
  }
 ]
}