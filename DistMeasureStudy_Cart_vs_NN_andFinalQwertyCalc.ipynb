{
 "cells": [
  {
   "cell_type": "code",
   "execution_count": 1,
   "metadata": {
    "collapsed": false
   },
   "outputs": [],
   "source": [
    "from donut import *\n",
    "from math import *\n",
    "import matplotlib.pyplot as plt\n",
    "from matplotlib.colors import LogNorm\n",
    "from pylab import *\n",
    "import os\n",
    "\n",
    "%matplotlib inline\n",
    "\n",
    "import pandas as pd\n",
    "import seaborn as sns\n",
    "\n",
    "palette = sns.color_palette()\n",
    "\n",
    "#sns.palplot(sns.color_palette(\"husl\", 8))\n",
    "cm = sns.light_palette(\"magenta\",as_cmap=True)\n",
    "sns.set(style='ticks',palette='husl')\n",
    "cmm = sns.light_palette(\"#8e0152\",as_cmap=True)\n",
    "cmg = sns.light_palette(\"#276419\",as_cmap=True)\n",
    "cmdg = sns.light_palette(\"#006837\",as_cmap=True)\n",
    "\n",
    "\n",
    "w = cruller.WordList()\n",
    "w.LoadFromFile(\"/Users/Rylan/cisc/creamTeam/wordLists/WordList_100000_combined_check.dat\")\n",
    "\n",
    "k = bearclaw.MakeStandardKeyboard()\n",
    "k.RemoveKey('.')\n",
    "\n",
    "kStan = k\n"
   ]
  },
  {
   "cell_type": "code",
   "execution_count": 7,
   "metadata": {
    "collapsed": false
   },
   "outputs": [
    {
     "name": "stdout",
     "output_type": "stream",
     "text": [
      "/Users/Rylan/cisc/creamTeam/donutData/systematics/distStudy/distStudy_fn3_100k_nn.dat\n",
      "/Users/Rylan/cisc/creamTeam/donutData/systematics/distStudy/distStudy_fn3_100k_cart.dat\n"
     ]
    }
   ],
   "source": [
    "finalfilename = \"/Users/Rylan/cisc/creamTeam/donutData/systematics/distStudy/distStudy_fn3_100k_nn.dat\"\n",
    "if os.path.exists(finalfilename):\n",
    "    print(finalfilename)\n",
    "    datNN = cruller.TrainingDataFileFormat()\n",
    "    datNN.LoadFromFile(finalfilename)\n",
    "\n",
    "finalfilename = \"/Users/Rylan/cisc/creamTeam/donutData/systematics/distStudy/distStudy_fn3_100k_cart.dat\"\n",
    "if os.path.exists(finalfilename):\n",
    "    print(finalfilename)\n",
    "    datCart = cruller.TrainingDataFileFormat()\n",
    "    datCart.LoadFromFile(finalfilename)"
   ]
  },
  {
   "cell_type": "code",
   "execution_count": 3,
   "metadata": {
    "collapsed": false
   },
   "outputs": [
    {
     "name": "stdout",
     "output_type": "stream",
     "text": [
      "{'distancemeasure': 'fann net with 5 interps', 'wordlistname': 'google_20k', 'wordlist': <donut.cruller.WordList object at 0x7fb14446b618>, 'inputmodel': 'five interpolations, no bez'}\n",
      "\n",
      "{'distancemeasure': 'cart dist with 5 interps', 'wordlistname': 'google_20k', 'wordlist': <donut.cruller.WordList object at 0x7fb1451b8418>, 'inputmodel': 'five interpolations, no bez'}\n"
     ]
    }
   ],
   "source": [
    "#print(finalDatList[0].PythonData()[1][0][1][\"spatial\"])\n",
    "#print(finalDatList[0].PythonData()[1][1])\n",
    "#print(finalDatList[0].PythonData()[1][2])\n",
    "print(datNN.PythonData()[0])\n",
    "print()\n",
    "print(datCart.PythonData()[0])"
   ]
  },
  {
   "cell_type": "code",
   "execution_count": 8,
   "metadata": {
    "collapsed": false
   },
   "outputs": [
    {
     "data": {
      "image/png": "[encoded data removed]",
      "text/plain": [
       "<matplotlib.figure.Figure at 0x1151d5ef0>"
      ]
     },
     "metadata": {},
     "output_type": "display_data"
    }
   ],
   "source": [
    "nnAvg, cartAvg = 0,0\n",
    "\n",
    "meta, eff = datNN.PythonData()\n",
    "for keyboard, d in eff:\n",
    "    spNN = 1-d['spatial'].Fitness()\n",
    "    spNNerr = d['spatial'].Error()\n",
    "    cuNN = 1-d['cubic'].Fitness()\n",
    "    cuNNerr = d['cubic'].Error()\n",
    "    herNN = 1-d['hermite'].Fitness()\n",
    "    herNNerr = d['hermite'].Error()\n",
    "    monNN = 1-d['monotonic'].Fitness()\n",
    "    monNNerr = d['monotonic'].Error()\n",
    "    modNN = 1-d['modCubic'].Fitness()\n",
    "    modNNerr = d['modCubic'].Error()\n",
    "    bearclaw.DrawKeyboard(keyboard)\n",
    "    \n",
    "meta, eff = datCart.PythonData()\n",
    "for keyboard, d in eff:\n",
    "    spC = 1-d['spatial'].Fitness()\n",
    "    spCerr = d['spatial'].Error()\n",
    "    cuC = 1-d['cubic'].Fitness()\n",
    "    cuCerr = d['cubic'].Error()\n",
    "    herC = 1-d['hermite'].Fitness()\n",
    "    herCerr = d['hermite'].Error()\n",
    "    monC = 1-d['monotonic'].Fitness()\n",
    "    monCerr = d['monotonic'].Error()\n",
    "    modC = 1-d['modCubic'].Fitness()\n",
    "    modCerr = d['modCubic'].Error()\n",
    "           "
   ]
  },
  {
   "cell_type": "code",
   "execution_count": 11,
   "metadata": {
    "collapsed": false
   },
   "outputs": [
    {
     "name": "stdout",
     "output_type": "stream",
     "text": [
      "Neural Net Error Rate:  0.1530662000001278 +/- 0.00035181900201172744\n",
      "Cartesian Error Rate:   0.14882530000012964\n"
     ]
    }
   ],
   "source": [
    "avgNN = (spNN+cuNN+herNN+monNN+modNN)/5\n",
    "avgNNerr = math.sqrt(spNNerr**2+cuNNerr**2+herNNerr**2+monNNerr**2+modNNerr**2)/5\n",
    "avgC = (spC+cuC+herC+monC+modC)/5\n",
    "print(\"Neural Net Error Rate: \",avgNN,\"+/-\",avgNNerr)\n",
    "print(\"Cartesian Error Rate:  \",avgC)"
   ]
  },
  {
   "cell_type": "code",
   "execution_count": 6,
   "metadata": {
    "collapsed": false
   },
   "outputs": [
    {
     "name": "stdout",
     "output_type": "stream",
     "text": [
      "0.00244694470513799 0.004092171917209736\n",
      "0.15881000000001144 0.2127\n",
      "0.14323500000001044 0.2229\n",
      "0.14263000000001358 0.21089999999999998\n",
      "0.15799500000000932 0.20599999999999996\n",
      "0.1540550000000127 0.2509\n"
     ]
    }
   ],
   "source": [
    "print(spNNerr, spCerr)\n",
    "print(spNN, spC)\n",
    "print(cuNN, cuC)\n",
    "print(herNN, herC)\n",
    "print(monNN, monC)\n",
    "print(modNN, modC)"
   ]
  },
  {
   "cell_type": "code",
   "execution_count": null,
   "metadata": {
    "collapsed": false
   },
   "outputs": [],
   "source": []
  }
 ],
 "metadata": {
  "kernelspec": {
   "display_name": "Python 3",
   "language": "python",
   "name": "python3"
  },
  "language_info": {
   "codemirror_mode": {
    "name": "ipython",
    "version": 3
   },
   "file_extension": ".py",
   "mimetype": "text/x-python",
   "name": "python",
   "nbconvert_exporter": "python",
   "pygments_lexer": "ipython3",
   "version": "3.4.3"
  }
 },
 "nbformat": 4,
 "nbformat_minor": 0
}
