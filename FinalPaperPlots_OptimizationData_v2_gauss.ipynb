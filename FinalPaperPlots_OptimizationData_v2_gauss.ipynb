{
 "metadata": {
  "name": "",
  "signature": "sha256:9f9e7a719e4ebd54e1104b36b83224b5fb5087333df9242f243c08b3a3db63be"
 },
 "nbformat": 3,
 "nbformat_minor": 0,
 "worksheets": [
  {
   "cells": [
    {
     "cell_type": "code",
     "collapsed": false,
     "input": [
      "from donut import *\n",
      "from math import *\n",
      "import matplotlib.pyplot as plt\n",
      "from matplotlib.colors import LogNorm\n",
      "from pylab import *\n",
      "import os\n",
      "\n",
      "%matplotlib inline\n",
      "\n",
      "import pandas as pd\n",
      "import seaborn as sns\n",
      "\n",
      "cp = [\"#276419\",\"#4d9221\",\"#7fbc41\",\"#de77ae\",\"#c51b7d\",\"#8e0152\"]\n",
      "#cp = [\"#276419\",\"#4d9221\",\"#de77ae\",\"#c51b7d\",\"#8e0152\"]\n",
      "sns.palplot(sns.color_palette(cp, 6))\n",
      "cmm = sns.light_palette(\"#8e0152\",as_cmap=True)\n",
      "cmg = sns.light_palette(\"#276419\",as_cmap=True)\n",
      "sns.set(style='ticks',palette=cp)\n",
      "\n",
      "c6 = \"#8e0152\"\n",
      "c5 = \"#c51b7d\"\n",
      "c4 = \"#de77ae\"\n",
      "c3 = \"#7fbc41\"\n",
      "c2 = \"#4d9221\"\n",
      "c1 = \"#276419\""
     ],
     "language": "python",
     "metadata": {},
     "outputs": [
      {
       "metadata": {},
       "output_type": "display_data",
       "png": "[encoded data removed]",
       "text": [
        "<matplotlib.figure.Figure at 0x10a7239b0>"
       ]
      }
     ],
     "prompt_number": 1
    },
    {
     "cell_type": "code",
     "collapsed": false,
     "input": [
      "w = cruller.WordList()\n",
      "w.LoadFromFile(\"/Users/Rylan/cisc/creamTeam/wordLists/WordList_100000_combined_check.dat\")\n",
      "\n",
      "k = bearclaw.MakeStandardKeyboard()\n",
      "k.RemoveKey('.')\n",
      "kStan = k"
     ],
     "language": "python",
     "metadata": {},
     "outputs": [],
     "prompt_number": 2
    },
    {
     "cell_type": "code",
     "collapsed": false,
     "input": [
      "nProc=256\n",
      "nFiles=1\n",
      "datList = []\n",
      "datList = [[] for x in range(nProc)]\n",
      "finalDatList = []\n",
      "fCalc = False\n",
      "\n",
      "for i in range(1,nProc+1):\n",
      "    for j in range(0,nFiles):\n",
      "        filename = \"/Users/Rylan/cisc/creamTeam/donutData/finalOptData/gaussOutput/finalOpt2_200it_eff5k/finalOpt2_\"+str(i)+\".000\"+str(j)+\".dat\"\n",
      "        if os.path.exists(filename):\n",
      "            print(filename)\n",
      "            dat = cruller.TrainingDataFileFormat()\n",
      "            dat.LoadFromFile(filename)\n",
      "            datList[i-1].append(dat)\n",
      "    \n",
      "print(len(datList))"
     ],
     "language": "python",
     "metadata": {},
     "outputs": [
      {
       "output_type": "stream",
       "stream": "stdout",
       "text": [
        "/Users/Rylan/cisc/creamTeam/donutData/finalOptData/gaussOutput/finalOpt2_200it_eff5k/finalOpt2_1.0000.dat\n",
        "/Users/Rylan/cisc/creamTeam/donutData/finalOptData/gaussOutput/finalOpt2_200it_eff5k/finalOpt2_2.0000.dat"
       ]
      },
      {
       "output_type": "stream",
       "stream": "stdout",
       "text": [
        "\n",
        "/Users/Rylan/cisc/creamTeam/donutData/finalOptData/gaussOutput/finalOpt2_200it_eff5k/finalOpt2_3.0000.dat"
       ]
      },
      {
       "output_type": "stream",
       "stream": "stdout",
       "text": [
        "\n",
        "/Users/Rylan/cisc/creamTeam/donutData/finalOptData/gaussOutput/finalOpt2_200it_eff5k/finalOpt2_4.0000.dat"
       ]
      },
      {
       "output_type": "stream",
       "stream": "stdout",
       "text": [
        "\n",
        "/Users/Rylan/cisc/creamTeam/donutData/finalOptData/gaussOutput/finalOpt2_200it_eff5k/finalOpt2_5.0000.dat"
       ]
      },
      {
       "output_type": "stream",
       "stream": "stdout",
       "text": [
        "\n",
        "/Users/Rylan/cisc/creamTeam/donutData/finalOptData/gaussOutput/finalOpt2_200it_eff5k/finalOpt2_6.0000.dat"
       ]
      },
      {
       "output_type": "stream",
       "stream": "stdout",
       "text": [
        "\n",
        "/Users/Rylan/cisc/creamTeam/donutData/finalOptData/gaussOutput/finalOpt2_200it_eff5k/finalOpt2_7.0000.dat"
       ]
      },
      {
       "output_type": "stream",
       "stream": "stdout",
       "text": [
        "\n",
        "/Users/Rylan/cisc/creamTeam/donutData/finalOptData/gaussOutput/finalOpt2_200it_eff5k/finalOpt2_8.0000.dat"
       ]
      },
      {
       "output_type": "stream",
       "stream": "stdout",
       "text": [
        "\n",
        "/Users/Rylan/cisc/creamTeam/donutData/finalOptData/gaussOutput/finalOpt2_200it_eff5k/finalOpt2_9.0000.dat"
       ]
      },
      {
       "output_type": "stream",
       "stream": "stdout",
       "text": [
        "\n",
        "/Users/Rylan/cisc/creamTeam/donutData/finalOptData/gaussOutput/finalOpt2_200it_eff5k/finalOpt2_10.0000.dat"
       ]
      },
      {
       "output_type": "stream",
       "stream": "stdout",
       "text": [
        "\n",
        "/Users/Rylan/cisc/creamTeam/donutData/finalOptData/gaussOutput/finalOpt2_200it_eff5k/finalOpt2_11.0000.dat"
       ]
      },
      {
       "output_type": "stream",
       "stream": "stdout",
       "text": [
        "\n",
        "/Users/Rylan/cisc/creamTeam/donutData/finalOptData/gaussOutput/finalOpt2_200it_eff5k/finalOpt2_12.0000.dat"
       ]
      },
      {
       "output_type": "stream",
       "stream": "stdout",
       "text": [
        "\n",
        "/Users/Rylan/cisc/creamTeam/donutData/finalOptData/gaussOutput/finalOpt2_200it_eff5k/finalOpt2_13.0000.dat"
       ]
      },
      {
       "output_type": "stream",
       "stream": "stdout",
       "text": [
        "\n",
        "/Users/Rylan/cisc/creamTeam/donutData/finalOptData/gaussOutput/finalOpt2_200it_eff5k/finalOpt2_14.0000.dat"
       ]
      },
      {
       "output_type": "stream",
       "stream": "stdout",
       "text": [
        "\n",
        "/Users/Rylan/cisc/creamTeam/donutData/finalOptData/gaussOutput/finalOpt2_200it_eff5k/finalOpt2_15.0000.dat"
       ]
      },
      {
       "output_type": "stream",
       "stream": "stdout",
       "text": [
        "\n",
        "/Users/Rylan/cisc/creamTeam/donutData/finalOptData/gaussOutput/finalOpt2_200it_eff5k/finalOpt2_16.0000.dat"
       ]
      },
      {
       "output_type": "stream",
       "stream": "stdout",
       "text": [
        "\n",
        "/Users/Rylan/cisc/creamTeam/donutData/finalOptData/gaussOutput/finalOpt2_200it_eff5k/finalOpt2_17.0000.dat"
       ]
      },
      {
       "output_type": "stream",
       "stream": "stdout",
       "text": [
        "\n",
        "/Users/Rylan/cisc/creamTeam/donutData/finalOptData/gaussOutput/finalOpt2_200it_eff5k/finalOpt2_18.0000.dat"
       ]
      },
      {
       "output_type": "stream",
       "stream": "stdout",
       "text": [
        "\n",
        "/Users/Rylan/cisc/creamTeam/donutData/finalOptData/gaussOutput/finalOpt2_200it_eff5k/finalOpt2_19.0000.dat"
       ]
      },
      {
       "output_type": "stream",
       "stream": "stdout",
       "text": [
        "\n",
        "/Users/Rylan/cisc/creamTeam/donutData/finalOptData/gaussOutput/finalOpt2_200it_eff5k/finalOpt2_20.0000.dat"
       ]
      },
      {
       "output_type": "stream",
       "stream": "stdout",
       "text": [
        "\n",
        "/Users/Rylan/cisc/creamTeam/donutData/finalOptData/gaussOutput/finalOpt2_200it_eff5k/finalOpt2_21.0000.dat"
       ]
      },
      {
       "output_type": "stream",
       "stream": "stdout",
       "text": [
        "\n",
        "/Users/Rylan/cisc/creamTeam/donutData/finalOptData/gaussOutput/finalOpt2_200it_eff5k/finalOpt2_22.0000.dat"
       ]
      },
      {
       "output_type": "stream",
       "stream": "stdout",
       "text": [
        "\n",
        "/Users/Rylan/cisc/creamTeam/donutData/finalOptData/gaussOutput/finalOpt2_200it_eff5k/finalOpt2_23.0000.dat"
       ]
      },
      {
       "output_type": "stream",
       "stream": "stdout",
       "text": [
        "\n",
        "/Users/Rylan/cisc/creamTeam/donutData/finalOptData/gaussOutput/finalOpt2_200it_eff5k/finalOpt2_24.0000.dat"
       ]
      },
      {
       "output_type": "stream",
       "stream": "stdout",
       "text": [
        "\n",
        "/Users/Rylan/cisc/creamTeam/donutData/finalOptData/gaussOutput/finalOpt2_200it_eff5k/finalOpt2_25.0000.dat"
       ]
      },
      {
       "output_type": "stream",
       "stream": "stdout",
       "text": [
        "\n",
        "/Users/Rylan/cisc/creamTeam/donutData/finalOptData/gaussOutput/finalOpt2_200it_eff5k/finalOpt2_26.0000.dat"
       ]
      },
      {
       "output_type": "stream",
       "stream": "stdout",
       "text": [
        "\n",
        "/Users/Rylan/cisc/creamTeam/donutData/finalOptData/gaussOutput/finalOpt2_200it_eff5k/finalOpt2_27.0000.dat"
       ]
      },
      {
       "output_type": "stream",
       "stream": "stdout",
       "text": [
        "\n",
        "/Users/Rylan/cisc/creamTeam/donutData/finalOptData/gaussOutput/finalOpt2_200it_eff5k/finalOpt2_28.0000.dat"
       ]
      },
      {
       "output_type": "stream",
       "stream": "stdout",
       "text": [
        "\n",
        "/Users/Rylan/cisc/creamTeam/donutData/finalOptData/gaussOutput/finalOpt2_200it_eff5k/finalOpt2_29.0000.dat"
       ]
      },
      {
       "output_type": "stream",
       "stream": "stdout",
       "text": [
        "\n",
        "/Users/Rylan/cisc/creamTeam/donutData/finalOptData/gaussOutput/finalOpt2_200it_eff5k/finalOpt2_30.0000.dat"
       ]
      },
      {
       "output_type": "stream",
       "stream": "stdout",
       "text": [
        "\n",
        "/Users/Rylan/cisc/creamTeam/donutData/finalOptData/gaussOutput/finalOpt2_200it_eff5k/finalOpt2_31.0000.dat"
       ]
      },
      {
       "output_type": "stream",
       "stream": "stdout",
       "text": [
        "\n",
        "/Users/Rylan/cisc/creamTeam/donutData/finalOptData/gaussOutput/finalOpt2_200it_eff5k/finalOpt2_32.0000.dat"
       ]
      },
      {
       "output_type": "stream",
       "stream": "stdout",
       "text": [
        "\n",
        "/Users/Rylan/cisc/creamTeam/donutData/finalOptData/gaussOutput/finalOpt2_200it_eff5k/finalOpt2_33.0000.dat"
       ]
      },
      {
       "output_type": "stream",
       "stream": "stdout",
       "text": [
        "\n",
        "/Users/Rylan/cisc/creamTeam/donutData/finalOptData/gaussOutput/finalOpt2_200it_eff5k/finalOpt2_34.0000.dat"
       ]
      },
      {
       "output_type": "stream",
       "stream": "stdout",
       "text": [
        "\n",
        "/Users/Rylan/cisc/creamTeam/donutData/finalOptData/gaussOutput/finalOpt2_200it_eff5k/finalOpt2_35.0000.dat"
       ]
      },
      {
       "output_type": "stream",
       "stream": "stdout",
       "text": [
        "\n",
        "/Users/Rylan/cisc/creamTeam/donutData/finalOptData/gaussOutput/finalOpt2_200it_eff5k/finalOpt2_36.0000.dat"
       ]
      },
      {
       "output_type": "stream",
       "stream": "stdout",
       "text": [
        "\n",
        "/Users/Rylan/cisc/creamTeam/donutData/finalOptData/gaussOutput/finalOpt2_200it_eff5k/finalOpt2_37.0000.dat"
       ]
      },
      {
       "output_type": "stream",
       "stream": "stdout",
       "text": [
        "\n",
        "/Users/Rylan/cisc/creamTeam/donutData/finalOptData/gaussOutput/finalOpt2_200it_eff5k/finalOpt2_38.0000.dat"
       ]
      },
      {
       "output_type": "stream",
       "stream": "stdout",
       "text": [
        "\n",
        "/Users/Rylan/cisc/creamTeam/donutData/finalOptData/gaussOutput/finalOpt2_200it_eff5k/finalOpt2_39.0000.dat"
       ]
      },
      {
       "output_type": "stream",
       "stream": "stdout",
       "text": [
        "\n",
        "/Users/Rylan/cisc/creamTeam/donutData/finalOptData/gaussOutput/finalOpt2_200it_eff5k/finalOpt2_40.0000.dat"
       ]
      },
      {
       "output_type": "stream",
       "stream": "stdout",
       "text": [
        "\n",
        "/Users/Rylan/cisc/creamTeam/donutData/finalOptData/gaussOutput/finalOpt2_200it_eff5k/finalOpt2_41.0000.dat"
       ]
      },
      {
       "output_type": "stream",
       "stream": "stdout",
       "text": [
        "\n",
        "/Users/Rylan/cisc/creamTeam/donutData/finalOptData/gaussOutput/finalOpt2_200it_eff5k/finalOpt2_42.0000.dat"
       ]
      },
      {
       "output_type": "stream",
       "stream": "stdout",
       "text": [
        "\n",
        "/Users/Rylan/cisc/creamTeam/donutData/finalOptData/gaussOutput/finalOpt2_200it_eff5k/finalOpt2_43.0000.dat"
       ]
      },
      {
       "output_type": "stream",
       "stream": "stdout",
       "text": [
        "\n",
        "/Users/Rylan/cisc/creamTeam/donutData/finalOptData/gaussOutput/finalOpt2_200it_eff5k/finalOpt2_44.0000.dat"
       ]
      },
      {
       "output_type": "stream",
       "stream": "stdout",
       "text": [
        "\n",
        "/Users/Rylan/cisc/creamTeam/donutData/finalOptData/gaussOutput/finalOpt2_200it_eff5k/finalOpt2_45.0000.dat"
       ]
      },
      {
       "output_type": "stream",
       "stream": "stdout",
       "text": [
        "\n",
        "/Users/Rylan/cisc/creamTeam/donutData/finalOptData/gaussOutput/finalOpt2_200it_eff5k/finalOpt2_46.0000.dat"
       ]
      },
      {
       "output_type": "stream",
       "stream": "stdout",
       "text": [
        "\n",
        "/Users/Rylan/cisc/creamTeam/donutData/finalOptData/gaussOutput/finalOpt2_200it_eff5k/finalOpt2_47.0000.dat"
       ]
      },
      {
       "output_type": "stream",
       "stream": "stdout",
       "text": [
        "\n",
        "/Users/Rylan/cisc/creamTeam/donutData/finalOptData/gaussOutput/finalOpt2_200it_eff5k/finalOpt2_48.0000.dat"
       ]
      },
      {
       "output_type": "stream",
       "stream": "stdout",
       "text": [
        "\n",
        "/Users/Rylan/cisc/creamTeam/donutData/finalOptData/gaussOutput/finalOpt2_200it_eff5k/finalOpt2_49.0000.dat"
       ]
      },
      {
       "output_type": "stream",
       "stream": "stdout",
       "text": [
        "\n",
        "/Users/Rylan/cisc/creamTeam/donutData/finalOptData/gaussOutput/finalOpt2_200it_eff5k/finalOpt2_50.0000.dat"
       ]
      },
      {
       "output_type": "stream",
       "stream": "stdout",
       "text": [
        "\n",
        "/Users/Rylan/cisc/creamTeam/donutData/finalOptData/gaussOutput/finalOpt2_200it_eff5k/finalOpt2_51.0000.dat"
       ]
      },
      {
       "output_type": "stream",
       "stream": "stdout",
       "text": [
        "\n",
        "/Users/Rylan/cisc/creamTeam/donutData/finalOptData/gaussOutput/finalOpt2_200it_eff5k/finalOpt2_52.0000.dat"
       ]
      },
      {
       "output_type": "stream",
       "stream": "stdout",
       "text": [
        "\n",
        "/Users/Rylan/cisc/creamTeam/donutData/finalOptData/gaussOutput/finalOpt2_200it_eff5k/finalOpt2_53.0000.dat"
       ]
      },
      {
       "output_type": "stream",
       "stream": "stdout",
       "text": [
        "\n",
        "/Users/Rylan/cisc/creamTeam/donutData/finalOptData/gaussOutput/finalOpt2_200it_eff5k/finalOpt2_54.0000.dat"
       ]
      },
      {
       "output_type": "stream",
       "stream": "stdout",
       "text": [
        "\n",
        "/Users/Rylan/cisc/creamTeam/donutData/finalOptData/gaussOutput/finalOpt2_200it_eff5k/finalOpt2_55.0000.dat"
       ]
      },
      {
       "output_type": "stream",
       "stream": "stdout",
       "text": [
        "\n",
        "/Users/Rylan/cisc/creamTeam/donutData/finalOptData/gaussOutput/finalOpt2_200it_eff5k/finalOpt2_56.0000.dat"
       ]
      },
      {
       "output_type": "stream",
       "stream": "stdout",
       "text": [
        "\n",
        "/Users/Rylan/cisc/creamTeam/donutData/finalOptData/gaussOutput/finalOpt2_200it_eff5k/finalOpt2_57.0000.dat"
       ]
      },
      {
       "output_type": "stream",
       "stream": "stdout",
       "text": [
        "\n",
        "/Users/Rylan/cisc/creamTeam/donutData/finalOptData/gaussOutput/finalOpt2_200it_eff5k/finalOpt2_58.0000.dat"
       ]
      },
      {
       "output_type": "stream",
       "stream": "stdout",
       "text": [
        "\n",
        "/Users/Rylan/cisc/creamTeam/donutData/finalOptData/gaussOutput/finalOpt2_200it_eff5k/finalOpt2_59.0000.dat"
       ]
      },
      {
       "output_type": "stream",
       "stream": "stdout",
       "text": [
        "\n",
        "/Users/Rylan/cisc/creamTeam/donutData/finalOptData/gaussOutput/finalOpt2_200it_eff5k/finalOpt2_60.0000.dat"
       ]
      },
      {
       "output_type": "stream",
       "stream": "stdout",
       "text": [
        "\n",
        "/Users/Rylan/cisc/creamTeam/donutData/finalOptData/gaussOutput/finalOpt2_200it_eff5k/finalOpt2_61.0000.dat"
       ]
      },
      {
       "output_type": "stream",
       "stream": "stdout",
       "text": [
        "\n",
        "/Users/Rylan/cisc/creamTeam/donutData/finalOptData/gaussOutput/finalOpt2_200it_eff5k/finalOpt2_62.0000.dat"
       ]
      },
      {
       "output_type": "stream",
       "stream": "stdout",
       "text": [
        "\n",
        "/Users/Rylan/cisc/creamTeam/donutData/finalOptData/gaussOutput/finalOpt2_200it_eff5k/finalOpt2_63.0000.dat"
       ]
      },
      {
       "output_type": "stream",
       "stream": "stdout",
       "text": [
        "\n",
        "/Users/Rylan/cisc/creamTeam/donutData/finalOptData/gaussOutput/finalOpt2_200it_eff5k/finalOpt2_64.0000.dat"
       ]
      },
      {
       "output_type": "stream",
       "stream": "stdout",
       "text": [
        "\n",
        "/Users/Rylan/cisc/creamTeam/donutData/finalOptData/gaussOutput/finalOpt2_200it_eff5k/finalOpt2_65.0000.dat"
       ]
      },
      {
       "output_type": "stream",
       "stream": "stdout",
       "text": [
        "\n",
        "/Users/Rylan/cisc/creamTeam/donutData/finalOptData/gaussOutput/finalOpt2_200it_eff5k/finalOpt2_66.0000.dat"
       ]
      },
      {
       "output_type": "stream",
       "stream": "stdout",
       "text": [
        "\n",
        "/Users/Rylan/cisc/creamTeam/donutData/finalOptData/gaussOutput/finalOpt2_200it_eff5k/finalOpt2_67.0000.dat"
       ]
      },
      {
       "output_type": "stream",
       "stream": "stdout",
       "text": [
        "\n",
        "/Users/Rylan/cisc/creamTeam/donutData/finalOptData/gaussOutput/finalOpt2_200it_eff5k/finalOpt2_68.0000.dat"
       ]
      },
      {
       "output_type": "stream",
       "stream": "stdout",
       "text": [
        "\n",
        "/Users/Rylan/cisc/creamTeam/donutData/finalOptData/gaussOutput/finalOpt2_200it_eff5k/finalOpt2_69.0000.dat"
       ]
      },
      {
       "output_type": "stream",
       "stream": "stdout",
       "text": [
        "\n",
        "/Users/Rylan/cisc/creamTeam/donutData/finalOptData/gaussOutput/finalOpt2_200it_eff5k/finalOpt2_70.0000.dat"
       ]
      },
      {
       "output_type": "stream",
       "stream": "stdout",
       "text": [
        "\n",
        "/Users/Rylan/cisc/creamTeam/donutData/finalOptData/gaussOutput/finalOpt2_200it_eff5k/finalOpt2_71.0000.dat"
       ]
      },
      {
       "output_type": "stream",
       "stream": "stdout",
       "text": [
        "\n",
        "/Users/Rylan/cisc/creamTeam/donutData/finalOptData/gaussOutput/finalOpt2_200it_eff5k/finalOpt2_72.0000.dat"
       ]
      },
      {
       "output_type": "stream",
       "stream": "stdout",
       "text": [
        "\n",
        "/Users/Rylan/cisc/creamTeam/donutData/finalOptData/gaussOutput/finalOpt2_200it_eff5k/finalOpt2_73.0000.dat"
       ]
      },
      {
       "output_type": "stream",
       "stream": "stdout",
       "text": [
        "\n",
        "/Users/Rylan/cisc/creamTeam/donutData/finalOptData/gaussOutput/finalOpt2_200it_eff5k/finalOpt2_74.0000.dat"
       ]
      },
      {
       "output_type": "stream",
       "stream": "stdout",
       "text": [
        "\n",
        "/Users/Rylan/cisc/creamTeam/donutData/finalOptData/gaussOutput/finalOpt2_200it_eff5k/finalOpt2_75.0000.dat"
       ]
      },
      {
       "output_type": "stream",
       "stream": "stdout",
       "text": [
        "\n",
        "/Users/Rylan/cisc/creamTeam/donutData/finalOptData/gaussOutput/finalOpt2_200it_eff5k/finalOpt2_76.0000.dat"
       ]
      },
      {
       "output_type": "stream",
       "stream": "stdout",
       "text": [
        "\n",
        "/Users/Rylan/cisc/creamTeam/donutData/finalOptData/gaussOutput/finalOpt2_200it_eff5k/finalOpt2_77.0000.dat"
       ]
      },
      {
       "output_type": "stream",
       "stream": "stdout",
       "text": [
        "\n",
        "/Users/Rylan/cisc/creamTeam/donutData/finalOptData/gaussOutput/finalOpt2_200it_eff5k/finalOpt2_78.0000.dat"
       ]
      },
      {
       "output_type": "stream",
       "stream": "stdout",
       "text": [
        "\n",
        "/Users/Rylan/cisc/creamTeam/donutData/finalOptData/gaussOutput/finalOpt2_200it_eff5k/finalOpt2_79.0000.dat"
       ]
      },
      {
       "output_type": "stream",
       "stream": "stdout",
       "text": [
        "\n",
        "/Users/Rylan/cisc/creamTeam/donutData/finalOptData/gaussOutput/finalOpt2_200it_eff5k/finalOpt2_80.0000.dat"
       ]
      },
      {
       "output_type": "stream",
       "stream": "stdout",
       "text": [
        "\n",
        "/Users/Rylan/cisc/creamTeam/donutData/finalOptData/gaussOutput/finalOpt2_200it_eff5k/finalOpt2_81.0000.dat"
       ]
      },
      {
       "output_type": "stream",
       "stream": "stdout",
       "text": [
        "\n",
        "/Users/Rylan/cisc/creamTeam/donutData/finalOptData/gaussOutput/finalOpt2_200it_eff5k/finalOpt2_82.0000.dat"
       ]
      },
      {
       "output_type": "stream",
       "stream": "stdout",
       "text": [
        "\n",
        "/Users/Rylan/cisc/creamTeam/donutData/finalOptData/gaussOutput/finalOpt2_200it_eff5k/finalOpt2_83.0000.dat"
       ]
      },
      {
       "output_type": "stream",
       "stream": "stdout",
       "text": [
        "\n",
        "/Users/Rylan/cisc/creamTeam/donutData/finalOptData/gaussOutput/finalOpt2_200it_eff5k/finalOpt2_84.0000.dat"
       ]
      },
      {
       "output_type": "stream",
       "stream": "stdout",
       "text": [
        "\n",
        "/Users/Rylan/cisc/creamTeam/donutData/finalOptData/gaussOutput/finalOpt2_200it_eff5k/finalOpt2_85.0000.dat"
       ]
      },
      {
       "output_type": "stream",
       "stream": "stdout",
       "text": [
        "\n",
        "/Users/Rylan/cisc/creamTeam/donutData/finalOptData/gaussOutput/finalOpt2_200it_eff5k/finalOpt2_86.0000.dat"
       ]
      },
      {
       "output_type": "stream",
       "stream": "stdout",
       "text": [
        "\n",
        "/Users/Rylan/cisc/creamTeam/donutData/finalOptData/gaussOutput/finalOpt2_200it_eff5k/finalOpt2_87.0000.dat"
       ]
      },
      {
       "output_type": "stream",
       "stream": "stdout",
       "text": [
        "\n",
        "/Users/Rylan/cisc/creamTeam/donutData/finalOptData/gaussOutput/finalOpt2_200it_eff5k/finalOpt2_88.0000.dat"
       ]
      },
      {
       "output_type": "stream",
       "stream": "stdout",
       "text": [
        "\n",
        "/Users/Rylan/cisc/creamTeam/donutData/finalOptData/gaussOutput/finalOpt2_200it_eff5k/finalOpt2_89.0000.dat"
       ]
      },
      {
       "output_type": "stream",
       "stream": "stdout",
       "text": [
        "\n",
        "/Users/Rylan/cisc/creamTeam/donutData/finalOptData/gaussOutput/finalOpt2_200it_eff5k/finalOpt2_90.0000.dat"
       ]
      },
      {
       "output_type": "stream",
       "stream": "stdout",
       "text": [
        "\n",
        "/Users/Rylan/cisc/creamTeam/donutData/finalOptData/gaussOutput/finalOpt2_200it_eff5k/finalOpt2_91.0000.dat"
       ]
      },
      {
       "output_type": "stream",
       "stream": "stdout",
       "text": [
        "\n",
        "/Users/Rylan/cisc/creamTeam/donutData/finalOptData/gaussOutput/finalOpt2_200it_eff5k/finalOpt2_92.0000.dat"
       ]
      },
      {
       "output_type": "stream",
       "stream": "stdout",
       "text": [
        "\n",
        "/Users/Rylan/cisc/creamTeam/donutData/finalOptData/gaussOutput/finalOpt2_200it_eff5k/finalOpt2_93.0000.dat"
       ]
      },
      {
       "output_type": "stream",
       "stream": "stdout",
       "text": [
        "\n",
        "/Users/Rylan/cisc/creamTeam/donutData/finalOptData/gaussOutput/finalOpt2_200it_eff5k/finalOpt2_94.0000.dat"
       ]
      },
      {
       "output_type": "stream",
       "stream": "stdout",
       "text": [
        "\n",
        "/Users/Rylan/cisc/creamTeam/donutData/finalOptData/gaussOutput/finalOpt2_200it_eff5k/finalOpt2_95.0000.dat"
       ]
      },
      {
       "output_type": "stream",
       "stream": "stdout",
       "text": [
        "\n",
        "/Users/Rylan/cisc/creamTeam/donutData/finalOptData/gaussOutput/finalOpt2_200it_eff5k/finalOpt2_96.0000.dat"
       ]
      },
      {
       "output_type": "stream",
       "stream": "stdout",
       "text": [
        "\n",
        "/Users/Rylan/cisc/creamTeam/donutData/finalOptData/gaussOutput/finalOpt2_200it_eff5k/finalOpt2_97.0000.dat"
       ]
      },
      {
       "output_type": "stream",
       "stream": "stdout",
       "text": [
        "\n",
        "/Users/Rylan/cisc/creamTeam/donutData/finalOptData/gaussOutput/finalOpt2_200it_eff5k/finalOpt2_98.0000.dat"
       ]
      },
      {
       "output_type": "stream",
       "stream": "stdout",
       "text": [
        "\n",
        "/Users/Rylan/cisc/creamTeam/donutData/finalOptData/gaussOutput/finalOpt2_200it_eff5k/finalOpt2_99.0000.dat"
       ]
      },
      {
       "output_type": "stream",
       "stream": "stdout",
       "text": [
        "\n",
        "/Users/Rylan/cisc/creamTeam/donutData/finalOptData/gaussOutput/finalOpt2_200it_eff5k/finalOpt2_100.0000.dat"
       ]
      },
      {
       "output_type": "stream",
       "stream": "stdout",
       "text": [
        "\n",
        "/Users/Rylan/cisc/creamTeam/donutData/finalOptData/gaussOutput/finalOpt2_200it_eff5k/finalOpt2_101.0000.dat"
       ]
      },
      {
       "output_type": "stream",
       "stream": "stdout",
       "text": [
        "\n",
        "/Users/Rylan/cisc/creamTeam/donutData/finalOptData/gaussOutput/finalOpt2_200it_eff5k/finalOpt2_102.0000.dat"
       ]
      },
      {
       "output_type": "stream",
       "stream": "stdout",
       "text": [
        "\n",
        "/Users/Rylan/cisc/creamTeam/donutData/finalOptData/gaussOutput/finalOpt2_200it_eff5k/finalOpt2_103.0000.dat"
       ]
      },
      {
       "output_type": "stream",
       "stream": "stdout",
       "text": [
        "\n",
        "/Users/Rylan/cisc/creamTeam/donutData/finalOptData/gaussOutput/finalOpt2_200it_eff5k/finalOpt2_104.0000.dat"
       ]
      },
      {
       "output_type": "stream",
       "stream": "stdout",
       "text": [
        "\n",
        "/Users/Rylan/cisc/creamTeam/donutData/finalOptData/gaussOutput/finalOpt2_200it_eff5k/finalOpt2_105.0000.dat"
       ]
      },
      {
       "output_type": "stream",
       "stream": "stdout",
       "text": [
        "\n",
        "/Users/Rylan/cisc/creamTeam/donutData/finalOptData/gaussOutput/finalOpt2_200it_eff5k/finalOpt2_106.0000.dat"
       ]
      },
      {
       "output_type": "stream",
       "stream": "stdout",
       "text": [
        "\n",
        "/Users/Rylan/cisc/creamTeam/donutData/finalOptData/gaussOutput/finalOpt2_200it_eff5k/finalOpt2_107.0000.dat"
       ]
      },
      {
       "output_type": "stream",
       "stream": "stdout",
       "text": [
        "\n",
        "/Users/Rylan/cisc/creamTeam/donutData/finalOptData/gaussOutput/finalOpt2_200it_eff5k/finalOpt2_108.0000.dat"
       ]
      },
      {
       "output_type": "stream",
       "stream": "stdout",
       "text": [
        "\n",
        "/Users/Rylan/cisc/creamTeam/donutData/finalOptData/gaussOutput/finalOpt2_200it_eff5k/finalOpt2_109.0000.dat"
       ]
      },
      {
       "output_type": "stream",
       "stream": "stdout",
       "text": [
        "\n",
        "/Users/Rylan/cisc/creamTeam/donutData/finalOptData/gaussOutput/finalOpt2_200it_eff5k/finalOpt2_110.0000.dat"
       ]
      },
      {
       "output_type": "stream",
       "stream": "stdout",
       "text": [
        "\n",
        "/Users/Rylan/cisc/creamTeam/donutData/finalOptData/gaussOutput/finalOpt2_200it_eff5k/finalOpt2_111.0000.dat"
       ]
      },
      {
       "output_type": "stream",
       "stream": "stdout",
       "text": [
        "\n",
        "/Users/Rylan/cisc/creamTeam/donutData/finalOptData/gaussOutput/finalOpt2_200it_eff5k/finalOpt2_112.0000.dat"
       ]
      },
      {
       "output_type": "stream",
       "stream": "stdout",
       "text": [
        "\n",
        "/Users/Rylan/cisc/creamTeam/donutData/finalOptData/gaussOutput/finalOpt2_200it_eff5k/finalOpt2_113.0000.dat"
       ]
      },
      {
       "output_type": "stream",
       "stream": "stdout",
       "text": [
        "\n",
        "/Users/Rylan/cisc/creamTeam/donutData/finalOptData/gaussOutput/finalOpt2_200it_eff5k/finalOpt2_114.0000.dat"
       ]
      },
      {
       "output_type": "stream",
       "stream": "stdout",
       "text": [
        "\n",
        "/Users/Rylan/cisc/creamTeam/donutData/finalOptData/gaussOutput/finalOpt2_200it_eff5k/finalOpt2_115.0000.dat"
       ]
      },
      {
       "output_type": "stream",
       "stream": "stdout",
       "text": [
        "\n",
        "/Users/Rylan/cisc/creamTeam/donutData/finalOptData/gaussOutput/finalOpt2_200it_eff5k/finalOpt2_116.0000.dat"
       ]
      },
      {
       "output_type": "stream",
       "stream": "stdout",
       "text": [
        "\n",
        "/Users/Rylan/cisc/creamTeam/donutData/finalOptData/gaussOutput/finalOpt2_200it_eff5k/finalOpt2_117.0000.dat"
       ]
      },
      {
       "output_type": "stream",
       "stream": "stdout",
       "text": [
        "\n",
        "/Users/Rylan/cisc/creamTeam/donutData/finalOptData/gaussOutput/finalOpt2_200it_eff5k/finalOpt2_118.0000.dat"
       ]
      },
      {
       "output_type": "stream",
       "stream": "stdout",
       "text": [
        "\n",
        "/Users/Rylan/cisc/creamTeam/donutData/finalOptData/gaussOutput/finalOpt2_200it_eff5k/finalOpt2_119.0000.dat"
       ]
      },
      {
       "output_type": "stream",
       "stream": "stdout",
       "text": [
        "\n",
        "/Users/Rylan/cisc/creamTeam/donutData/finalOptData/gaussOutput/finalOpt2_200it_eff5k/finalOpt2_120.0000.dat"
       ]
      },
      {
       "output_type": "stream",
       "stream": "stdout",
       "text": [
        "\n",
        "/Users/Rylan/cisc/creamTeam/donutData/finalOptData/gaussOutput/finalOpt2_200it_eff5k/finalOpt2_121.0000.dat"
       ]
      },
      {
       "output_type": "stream",
       "stream": "stdout",
       "text": [
        "\n",
        "/Users/Rylan/cisc/creamTeam/donutData/finalOptData/gaussOutput/finalOpt2_200it_eff5k/finalOpt2_122.0000.dat"
       ]
      },
      {
       "output_type": "stream",
       "stream": "stdout",
       "text": [
        "\n",
        "/Users/Rylan/cisc/creamTeam/donutData/finalOptData/gaussOutput/finalOpt2_200it_eff5k/finalOpt2_123.0000.dat"
       ]
      },
      {
       "output_type": "stream",
       "stream": "stdout",
       "text": [
        "\n",
        "/Users/Rylan/cisc/creamTeam/donutData/finalOptData/gaussOutput/finalOpt2_200it_eff5k/finalOpt2_124.0000.dat"
       ]
      },
      {
       "output_type": "stream",
       "stream": "stdout",
       "text": [
        "\n",
        "/Users/Rylan/cisc/creamTeam/donutData/finalOptData/gaussOutput/finalOpt2_200it_eff5k/finalOpt2_125.0000.dat"
       ]
      },
      {
       "output_type": "stream",
       "stream": "stdout",
       "text": [
        "\n",
        "/Users/Rylan/cisc/creamTeam/donutData/finalOptData/gaussOutput/finalOpt2_200it_eff5k/finalOpt2_126.0000.dat"
       ]
      },
      {
       "output_type": "stream",
       "stream": "stdout",
       "text": [
        "\n",
        "/Users/Rylan/cisc/creamTeam/donutData/finalOptData/gaussOutput/finalOpt2_200it_eff5k/finalOpt2_127.0000.dat"
       ]
      },
      {
       "output_type": "stream",
       "stream": "stdout",
       "text": [
        "\n",
        "/Users/Rylan/cisc/creamTeam/donutData/finalOptData/gaussOutput/finalOpt2_200it_eff5k/finalOpt2_128.0000.dat"
       ]
      },
      {
       "output_type": "stream",
       "stream": "stdout",
       "text": [
        "\n",
        "/Users/Rylan/cisc/creamTeam/donutData/finalOptData/gaussOutput/finalOpt2_200it_eff5k/finalOpt2_129.0000.dat"
       ]
      },
      {
       "output_type": "stream",
       "stream": "stdout",
       "text": [
        "\n",
        "/Users/Rylan/cisc/creamTeam/donutData/finalOptData/gaussOutput/finalOpt2_200it_eff5k/finalOpt2_130.0000.dat"
       ]
      },
      {
       "output_type": "stream",
       "stream": "stdout",
       "text": [
        "\n",
        "/Users/Rylan/cisc/creamTeam/donutData/finalOptData/gaussOutput/finalOpt2_200it_eff5k/finalOpt2_131.0000.dat"
       ]
      },
      {
       "output_type": "stream",
       "stream": "stdout",
       "text": [
        "\n",
        "/Users/Rylan/cisc/creamTeam/donutData/finalOptData/gaussOutput/finalOpt2_200it_eff5k/finalOpt2_132.0000.dat"
       ]
      },
      {
       "output_type": "stream",
       "stream": "stdout",
       "text": [
        "\n",
        "/Users/Rylan/cisc/creamTeam/donutData/finalOptData/gaussOutput/finalOpt2_200it_eff5k/finalOpt2_133.0000.dat"
       ]
      },
      {
       "output_type": "stream",
       "stream": "stdout",
       "text": [
        "\n",
        "/Users/Rylan/cisc/creamTeam/donutData/finalOptData/gaussOutput/finalOpt2_200it_eff5k/finalOpt2_134.0000.dat"
       ]
      },
      {
       "output_type": "stream",
       "stream": "stdout",
       "text": [
        "\n",
        "/Users/Rylan/cisc/creamTeam/donutData/finalOptData/gaussOutput/finalOpt2_200it_eff5k/finalOpt2_135.0000.dat"
       ]
      },
      {
       "output_type": "stream",
       "stream": "stdout",
       "text": [
        "\n",
        "/Users/Rylan/cisc/creamTeam/donutData/finalOptData/gaussOutput/finalOpt2_200it_eff5k/finalOpt2_136.0000.dat"
       ]
      },
      {
       "output_type": "stream",
       "stream": "stdout",
       "text": [
        "\n",
        "/Users/Rylan/cisc/creamTeam/donutData/finalOptData/gaussOutput/finalOpt2_200it_eff5k/finalOpt2_137.0000.dat"
       ]
      },
      {
       "output_type": "stream",
       "stream": "stdout",
       "text": [
        "\n",
        "/Users/Rylan/cisc/creamTeam/donutData/finalOptData/gaussOutput/finalOpt2_200it_eff5k/finalOpt2_138.0000.dat"
       ]
      },
      {
       "output_type": "stream",
       "stream": "stdout",
       "text": [
        "\n",
        "/Users/Rylan/cisc/creamTeam/donutData/finalOptData/gaussOutput/finalOpt2_200it_eff5k/finalOpt2_139.0000.dat"
       ]
      },
      {
       "output_type": "stream",
       "stream": "stdout",
       "text": [
        "\n",
        "/Users/Rylan/cisc/creamTeam/donutData/finalOptData/gaussOutput/finalOpt2_200it_eff5k/finalOpt2_140.0000.dat"
       ]
      },
      {
       "output_type": "stream",
       "stream": "stdout",
       "text": [
        "\n",
        "/Users/Rylan/cisc/creamTeam/donutData/finalOptData/gaussOutput/finalOpt2_200it_eff5k/finalOpt2_141.0000.dat"
       ]
      },
      {
       "output_type": "stream",
       "stream": "stdout",
       "text": [
        "\n",
        "/Users/Rylan/cisc/creamTeam/donutData/finalOptData/gaussOutput/finalOpt2_200it_eff5k/finalOpt2_142.0000.dat"
       ]
      },
      {
       "output_type": "stream",
       "stream": "stdout",
       "text": [
        "\n",
        "/Users/Rylan/cisc/creamTeam/donutData/finalOptData/gaussOutput/finalOpt2_200it_eff5k/finalOpt2_143.0000.dat"
       ]
      },
      {
       "output_type": "stream",
       "stream": "stdout",
       "text": [
        "\n",
        "/Users/Rylan/cisc/creamTeam/donutData/finalOptData/gaussOutput/finalOpt2_200it_eff5k/finalOpt2_144.0000.dat"
       ]
      },
      {
       "output_type": "stream",
       "stream": "stdout",
       "text": [
        "\n",
        "/Users/Rylan/cisc/creamTeam/donutData/finalOptData/gaussOutput/finalOpt2_200it_eff5k/finalOpt2_145.0000.dat"
       ]
      },
      {
       "output_type": "stream",
       "stream": "stdout",
       "text": [
        "\n",
        "/Users/Rylan/cisc/creamTeam/donutData/finalOptData/gaussOutput/finalOpt2_200it_eff5k/finalOpt2_146.0000.dat"
       ]
      },
      {
       "output_type": "stream",
       "stream": "stdout",
       "text": [
        "\n",
        "/Users/Rylan/cisc/creamTeam/donutData/finalOptData/gaussOutput/finalOpt2_200it_eff5k/finalOpt2_147.0000.dat"
       ]
      },
      {
       "output_type": "stream",
       "stream": "stdout",
       "text": [
        "\n",
        "/Users/Rylan/cisc/creamTeam/donutData/finalOptData/gaussOutput/finalOpt2_200it_eff5k/finalOpt2_148.0000.dat"
       ]
      },
      {
       "output_type": "stream",
       "stream": "stdout",
       "text": [
        "\n",
        "/Users/Rylan/cisc/creamTeam/donutData/finalOptData/gaussOutput/finalOpt2_200it_eff5k/finalOpt2_149.0000.dat"
       ]
      },
      {
       "output_type": "stream",
       "stream": "stdout",
       "text": [
        "\n",
        "/Users/Rylan/cisc/creamTeam/donutData/finalOptData/gaussOutput/finalOpt2_200it_eff5k/finalOpt2_150.0000.dat"
       ]
      },
      {
       "output_type": "stream",
       "stream": "stdout",
       "text": [
        "\n",
        "/Users/Rylan/cisc/creamTeam/donutData/finalOptData/gaussOutput/finalOpt2_200it_eff5k/finalOpt2_151.0000.dat"
       ]
      },
      {
       "output_type": "stream",
       "stream": "stdout",
       "text": [
        "\n",
        "/Users/Rylan/cisc/creamTeam/donutData/finalOptData/gaussOutput/finalOpt2_200it_eff5k/finalOpt2_152.0000.dat"
       ]
      },
      {
       "output_type": "stream",
       "stream": "stdout",
       "text": [
        "\n",
        "/Users/Rylan/cisc/creamTeam/donutData/finalOptData/gaussOutput/finalOpt2_200it_eff5k/finalOpt2_153.0000.dat"
       ]
      },
      {
       "output_type": "stream",
       "stream": "stdout",
       "text": [
        "\n",
        "/Users/Rylan/cisc/creamTeam/donutData/finalOptData/gaussOutput/finalOpt2_200it_eff5k/finalOpt2_154.0000.dat"
       ]
      },
      {
       "output_type": "stream",
       "stream": "stdout",
       "text": [
        "\n",
        "/Users/Rylan/cisc/creamTeam/donutData/finalOptData/gaussOutput/finalOpt2_200it_eff5k/finalOpt2_155.0000.dat"
       ]
      },
      {
       "output_type": "stream",
       "stream": "stdout",
       "text": [
        "\n",
        "/Users/Rylan/cisc/creamTeam/donutData/finalOptData/gaussOutput/finalOpt2_200it_eff5k/finalOpt2_156.0000.dat"
       ]
      },
      {
       "output_type": "stream",
       "stream": "stdout",
       "text": [
        "\n",
        "/Users/Rylan/cisc/creamTeam/donutData/finalOptData/gaussOutput/finalOpt2_200it_eff5k/finalOpt2_157.0000.dat"
       ]
      },
      {
       "output_type": "stream",
       "stream": "stdout",
       "text": [
        "\n",
        "/Users/Rylan/cisc/creamTeam/donutData/finalOptData/gaussOutput/finalOpt2_200it_eff5k/finalOpt2_158.0000.dat"
       ]
      },
      {
       "output_type": "stream",
       "stream": "stdout",
       "text": [
        "\n",
        "/Users/Rylan/cisc/creamTeam/donutData/finalOptData/gaussOutput/finalOpt2_200it_eff5k/finalOpt2_159.0000.dat"
       ]
      },
      {
       "output_type": "stream",
       "stream": "stdout",
       "text": [
        "\n",
        "/Users/Rylan/cisc/creamTeam/donutData/finalOptData/gaussOutput/finalOpt2_200it_eff5k/finalOpt2_160.0000.dat"
       ]
      },
      {
       "output_type": "stream",
       "stream": "stdout",
       "text": [
        "\n",
        "/Users/Rylan/cisc/creamTeam/donutData/finalOptData/gaussOutput/finalOpt2_200it_eff5k/finalOpt2_161.0000.dat"
       ]
      },
      {
       "output_type": "stream",
       "stream": "stdout",
       "text": [
        "\n",
        "/Users/Rylan/cisc/creamTeam/donutData/finalOptData/gaussOutput/finalOpt2_200it_eff5k/finalOpt2_162.0000.dat"
       ]
      },
      {
       "output_type": "stream",
       "stream": "stdout",
       "text": [
        "\n",
        "/Users/Rylan/cisc/creamTeam/donutData/finalOptData/gaussOutput/finalOpt2_200it_eff5k/finalOpt2_163.0000.dat"
       ]
      },
      {
       "output_type": "stream",
       "stream": "stdout",
       "text": [
        "\n",
        "/Users/Rylan/cisc/creamTeam/donutData/finalOptData/gaussOutput/finalOpt2_200it_eff5k/finalOpt2_164.0000.dat"
       ]
      },
      {
       "output_type": "stream",
       "stream": "stdout",
       "text": [
        "\n",
        "/Users/Rylan/cisc/creamTeam/donutData/finalOptData/gaussOutput/finalOpt2_200it_eff5k/finalOpt2_165.0000.dat"
       ]
      },
      {
       "output_type": "stream",
       "stream": "stdout",
       "text": [
        "\n",
        "/Users/Rylan/cisc/creamTeam/donutData/finalOptData/gaussOutput/finalOpt2_200it_eff5k/finalOpt2_166.0000.dat"
       ]
      },
      {
       "output_type": "stream",
       "stream": "stdout",
       "text": [
        "\n",
        "/Users/Rylan/cisc/creamTeam/donutData/finalOptData/gaussOutput/finalOpt2_200it_eff5k/finalOpt2_167.0000.dat"
       ]
      },
      {
       "output_type": "stream",
       "stream": "stdout",
       "text": [
        "\n",
        "/Users/Rylan/cisc/creamTeam/donutData/finalOptData/gaussOutput/finalOpt2_200it_eff5k/finalOpt2_168.0000.dat"
       ]
      },
      {
       "output_type": "stream",
       "stream": "stdout",
       "text": [
        "\n",
        "/Users/Rylan/cisc/creamTeam/donutData/finalOptData/gaussOutput/finalOpt2_200it_eff5k/finalOpt2_169.0000.dat"
       ]
      },
      {
       "output_type": "stream",
       "stream": "stdout",
       "text": [
        "\n",
        "/Users/Rylan/cisc/creamTeam/donutData/finalOptData/gaussOutput/finalOpt2_200it_eff5k/finalOpt2_170.0000.dat"
       ]
      },
      {
       "output_type": "stream",
       "stream": "stdout",
       "text": [
        "\n",
        "/Users/Rylan/cisc/creamTeam/donutData/finalOptData/gaussOutput/finalOpt2_200it_eff5k/finalOpt2_171.0000.dat"
       ]
      },
      {
       "output_type": "stream",
       "stream": "stdout",
       "text": [
        "\n",
        "/Users/Rylan/cisc/creamTeam/donutData/finalOptData/gaussOutput/finalOpt2_200it_eff5k/finalOpt2_172.0000.dat"
       ]
      },
      {
       "output_type": "stream",
       "stream": "stdout",
       "text": [
        "\n",
        "/Users/Rylan/cisc/creamTeam/donutData/finalOptData/gaussOutput/finalOpt2_200it_eff5k/finalOpt2_173.0000.dat"
       ]
      },
      {
       "output_type": "stream",
       "stream": "stdout",
       "text": [
        "\n",
        "/Users/Rylan/cisc/creamTeam/donutData/finalOptData/gaussOutput/finalOpt2_200it_eff5k/finalOpt2_174.0000.dat"
       ]
      },
      {
       "output_type": "stream",
       "stream": "stdout",
       "text": [
        "\n",
        "/Users/Rylan/cisc/creamTeam/donutData/finalOptData/gaussOutput/finalOpt2_200it_eff5k/finalOpt2_175.0000.dat"
       ]
      },
      {
       "output_type": "stream",
       "stream": "stdout",
       "text": [
        "\n",
        "/Users/Rylan/cisc/creamTeam/donutData/finalOptData/gaussOutput/finalOpt2_200it_eff5k/finalOpt2_176.0000.dat"
       ]
      },
      {
       "output_type": "stream",
       "stream": "stdout",
       "text": [
        "\n",
        "/Users/Rylan/cisc/creamTeam/donutData/finalOptData/gaussOutput/finalOpt2_200it_eff5k/finalOpt2_177.0000.dat"
       ]
      },
      {
       "output_type": "stream",
       "stream": "stdout",
       "text": [
        "\n",
        "/Users/Rylan/cisc/creamTeam/donutData/finalOptData/gaussOutput/finalOpt2_200it_eff5k/finalOpt2_178.0000.dat"
       ]
      },
      {
       "output_type": "stream",
       "stream": "stdout",
       "text": [
        "\n",
        "/Users/Rylan/cisc/creamTeam/donutData/finalOptData/gaussOutput/finalOpt2_200it_eff5k/finalOpt2_179.0000.dat"
       ]
      },
      {
       "output_type": "stream",
       "stream": "stdout",
       "text": [
        "\n",
        "/Users/Rylan/cisc/creamTeam/donutData/finalOptData/gaussOutput/finalOpt2_200it_eff5k/finalOpt2_180.0000.dat"
       ]
      },
      {
       "output_type": "stream",
       "stream": "stdout",
       "text": [
        "\n",
        "/Users/Rylan/cisc/creamTeam/donutData/finalOptData/gaussOutput/finalOpt2_200it_eff5k/finalOpt2_181.0000.dat"
       ]
      },
      {
       "output_type": "stream",
       "stream": "stdout",
       "text": [
        "\n",
        "/Users/Rylan/cisc/creamTeam/donutData/finalOptData/gaussOutput/finalOpt2_200it_eff5k/finalOpt2_182.0000.dat"
       ]
      },
      {
       "output_type": "stream",
       "stream": "stdout",
       "text": [
        "\n",
        "/Users/Rylan/cisc/creamTeam/donutData/finalOptData/gaussOutput/finalOpt2_200it_eff5k/finalOpt2_183.0000.dat"
       ]
      },
      {
       "output_type": "stream",
       "stream": "stdout",
       "text": [
        "\n",
        "/Users/Rylan/cisc/creamTeam/donutData/finalOptData/gaussOutput/finalOpt2_200it_eff5k/finalOpt2_184.0000.dat"
       ]
      },
      {
       "output_type": "stream",
       "stream": "stdout",
       "text": [
        "\n",
        "/Users/Rylan/cisc/creamTeam/donutData/finalOptData/gaussOutput/finalOpt2_200it_eff5k/finalOpt2_185.0000.dat"
       ]
      },
      {
       "output_type": "stream",
       "stream": "stdout",
       "text": [
        "\n",
        "/Users/Rylan/cisc/creamTeam/donutData/finalOptData/gaussOutput/finalOpt2_200it_eff5k/finalOpt2_186.0000.dat"
       ]
      },
      {
       "output_type": "stream",
       "stream": "stdout",
       "text": [
        "\n",
        "/Users/Rylan/cisc/creamTeam/donutData/finalOptData/gaussOutput/finalOpt2_200it_eff5k/finalOpt2_187.0000.dat"
       ]
      },
      {
       "output_type": "stream",
       "stream": "stdout",
       "text": [
        "\n",
        "/Users/Rylan/cisc/creamTeam/donutData/finalOptData/gaussOutput/finalOpt2_200it_eff5k/finalOpt2_188.0000.dat"
       ]
      },
      {
       "output_type": "stream",
       "stream": "stdout",
       "text": [
        "\n",
        "/Users/Rylan/cisc/creamTeam/donutData/finalOptData/gaussOutput/finalOpt2_200it_eff5k/finalOpt2_189.0000.dat"
       ]
      },
      {
       "output_type": "stream",
       "stream": "stdout",
       "text": [
        "\n",
        "/Users/Rylan/cisc/creamTeam/donutData/finalOptData/gaussOutput/finalOpt2_200it_eff5k/finalOpt2_190.0000.dat"
       ]
      },
      {
       "output_type": "stream",
       "stream": "stdout",
       "text": [
        "\n",
        "/Users/Rylan/cisc/creamTeam/donutData/finalOptData/gaussOutput/finalOpt2_200it_eff5k/finalOpt2_191.0000.dat"
       ]
      },
      {
       "output_type": "stream",
       "stream": "stdout",
       "text": [
        "\n",
        "/Users/Rylan/cisc/creamTeam/donutData/finalOptData/gaussOutput/finalOpt2_200it_eff5k/finalOpt2_192.0000.dat"
       ]
      },
      {
       "output_type": "stream",
       "stream": "stdout",
       "text": [
        "\n",
        "/Users/Rylan/cisc/creamTeam/donutData/finalOptData/gaussOutput/finalOpt2_200it_eff5k/finalOpt2_193.0000.dat"
       ]
      },
      {
       "output_type": "stream",
       "stream": "stdout",
       "text": [
        "\n",
        "/Users/Rylan/cisc/creamTeam/donutData/finalOptData/gaussOutput/finalOpt2_200it_eff5k/finalOpt2_194.0000.dat"
       ]
      },
      {
       "output_type": "stream",
       "stream": "stdout",
       "text": [
        "\n",
        "/Users/Rylan/cisc/creamTeam/donutData/finalOptData/gaussOutput/finalOpt2_200it_eff5k/finalOpt2_195.0000.dat"
       ]
      },
      {
       "output_type": "stream",
       "stream": "stdout",
       "text": [
        "\n",
        "/Users/Rylan/cisc/creamTeam/donutData/finalOptData/gaussOutput/finalOpt2_200it_eff5k/finalOpt2_196.0000.dat"
       ]
      },
      {
       "output_type": "stream",
       "stream": "stdout",
       "text": [
        "\n",
        "/Users/Rylan/cisc/creamTeam/donutData/finalOptData/gaussOutput/finalOpt2_200it_eff5k/finalOpt2_197.0000.dat"
       ]
      },
      {
       "output_type": "stream",
       "stream": "stdout",
       "text": [
        "\n",
        "/Users/Rylan/cisc/creamTeam/donutData/finalOptData/gaussOutput/finalOpt2_200it_eff5k/finalOpt2_198.0000.dat"
       ]
      },
      {
       "output_type": "stream",
       "stream": "stdout",
       "text": [
        "\n",
        "/Users/Rylan/cisc/creamTeam/donutData/finalOptData/gaussOutput/finalOpt2_200it_eff5k/finalOpt2_199.0000.dat"
       ]
      },
      {
       "output_type": "stream",
       "stream": "stdout",
       "text": [
        "\n",
        "/Users/Rylan/cisc/creamTeam/donutData/finalOptData/gaussOutput/finalOpt2_200it_eff5k/finalOpt2_200.0000.dat"
       ]
      },
      {
       "output_type": "stream",
       "stream": "stdout",
       "text": [
        "\n",
        "/Users/Rylan/cisc/creamTeam/donutData/finalOptData/gaussOutput/finalOpt2_200it_eff5k/finalOpt2_201.0000.dat"
       ]
      },
      {
       "output_type": "stream",
       "stream": "stdout",
       "text": [
        "\n",
        "/Users/Rylan/cisc/creamTeam/donutData/finalOptData/gaussOutput/finalOpt2_200it_eff5k/finalOpt2_202.0000.dat"
       ]
      },
      {
       "output_type": "stream",
       "stream": "stdout",
       "text": [
        "\n",
        "/Users/Rylan/cisc/creamTeam/donutData/finalOptData/gaussOutput/finalOpt2_200it_eff5k/finalOpt2_203.0000.dat"
       ]
      },
      {
       "output_type": "stream",
       "stream": "stdout",
       "text": [
        "\n",
        "/Users/Rylan/cisc/creamTeam/donutData/finalOptData/gaussOutput/finalOpt2_200it_eff5k/finalOpt2_204.0000.dat"
       ]
      },
      {
       "output_type": "stream",
       "stream": "stdout",
       "text": [
        "\n",
        "/Users/Rylan/cisc/creamTeam/donutData/finalOptData/gaussOutput/finalOpt2_200it_eff5k/finalOpt2_205.0000.dat"
       ]
      },
      {
       "output_type": "stream",
       "stream": "stdout",
       "text": [
        "\n",
        "/Users/Rylan/cisc/creamTeam/donutData/finalOptData/gaussOutput/finalOpt2_200it_eff5k/finalOpt2_206.0000.dat"
       ]
      },
      {
       "output_type": "stream",
       "stream": "stdout",
       "text": [
        "\n",
        "/Users/Rylan/cisc/creamTeam/donutData/finalOptData/gaussOutput/finalOpt2_200it_eff5k/finalOpt2_207.0000.dat"
       ]
      },
      {
       "output_type": "stream",
       "stream": "stdout",
       "text": [
        "\n",
        "/Users/Rylan/cisc/creamTeam/donutData/finalOptData/gaussOutput/finalOpt2_200it_eff5k/finalOpt2_208.0000.dat"
       ]
      },
      {
       "output_type": "stream",
       "stream": "stdout",
       "text": [
        "\n",
        "/Users/Rylan/cisc/creamTeam/donutData/finalOptData/gaussOutput/finalOpt2_200it_eff5k/finalOpt2_209.0000.dat"
       ]
      },
      {
       "output_type": "stream",
       "stream": "stdout",
       "text": [
        "\n",
        "/Users/Rylan/cisc/creamTeam/donutData/finalOptData/gaussOutput/finalOpt2_200it_eff5k/finalOpt2_210.0000.dat"
       ]
      },
      {
       "output_type": "stream",
       "stream": "stdout",
       "text": [
        "\n",
        "/Users/Rylan/cisc/creamTeam/donutData/finalOptData/gaussOutput/finalOpt2_200it_eff5k/finalOpt2_211.0000.dat"
       ]
      },
      {
       "output_type": "stream",
       "stream": "stdout",
       "text": [
        "\n",
        "/Users/Rylan/cisc/creamTeam/donutData/finalOptData/gaussOutput/finalOpt2_200it_eff5k/finalOpt2_212.0000.dat"
       ]
      },
      {
       "output_type": "stream",
       "stream": "stdout",
       "text": [
        "\n",
        "/Users/Rylan/cisc/creamTeam/donutData/finalOptData/gaussOutput/finalOpt2_200it_eff5k/finalOpt2_213.0000.dat"
       ]
      },
      {
       "output_type": "stream",
       "stream": "stdout",
       "text": [
        "\n",
        "/Users/Rylan/cisc/creamTeam/donutData/finalOptData/gaussOutput/finalOpt2_200it_eff5k/finalOpt2_214.0000.dat"
       ]
      },
      {
       "output_type": "stream",
       "stream": "stdout",
       "text": [
        "\n",
        "/Users/Rylan/cisc/creamTeam/donutData/finalOptData/gaussOutput/finalOpt2_200it_eff5k/finalOpt2_215.0000.dat"
       ]
      },
      {
       "output_type": "stream",
       "stream": "stdout",
       "text": [
        "\n",
        "/Users/Rylan/cisc/creamTeam/donutData/finalOptData/gaussOutput/finalOpt2_200it_eff5k/finalOpt2_216.0000.dat"
       ]
      },
      {
       "output_type": "stream",
       "stream": "stdout",
       "text": [
        "\n",
        "/Users/Rylan/cisc/creamTeam/donutData/finalOptData/gaussOutput/finalOpt2_200it_eff5k/finalOpt2_217.0000.dat"
       ]
      },
      {
       "output_type": "stream",
       "stream": "stdout",
       "text": [
        "\n",
        "/Users/Rylan/cisc/creamTeam/donutData/finalOptData/gaussOutput/finalOpt2_200it_eff5k/finalOpt2_218.0000.dat"
       ]
      },
      {
       "output_type": "stream",
       "stream": "stdout",
       "text": [
        "\n",
        "/Users/Rylan/cisc/creamTeam/donutData/finalOptData/gaussOutput/finalOpt2_200it_eff5k/finalOpt2_219.0000.dat"
       ]
      },
      {
       "output_type": "stream",
       "stream": "stdout",
       "text": [
        "\n",
        "/Users/Rylan/cisc/creamTeam/donutData/finalOptData/gaussOutput/finalOpt2_200it_eff5k/finalOpt2_220.0000.dat"
       ]
      },
      {
       "output_type": "stream",
       "stream": "stdout",
       "text": [
        "\n",
        "/Users/Rylan/cisc/creamTeam/donutData/finalOptData/gaussOutput/finalOpt2_200it_eff5k/finalOpt2_221.0000.dat"
       ]
      },
      {
       "output_type": "stream",
       "stream": "stdout",
       "text": [
        "\n",
        "/Users/Rylan/cisc/creamTeam/donutData/finalOptData/gaussOutput/finalOpt2_200it_eff5k/finalOpt2_222.0000.dat"
       ]
      },
      {
       "output_type": "stream",
       "stream": "stdout",
       "text": [
        "\n",
        "/Users/Rylan/cisc/creamTeam/donutData/finalOptData/gaussOutput/finalOpt2_200it_eff5k/finalOpt2_223.0000.dat"
       ]
      },
      {
       "output_type": "stream",
       "stream": "stdout",
       "text": [
        "\n",
        "/Users/Rylan/cisc/creamTeam/donutData/finalOptData/gaussOutput/finalOpt2_200it_eff5k/finalOpt2_224.0000.dat"
       ]
      },
      {
       "output_type": "stream",
       "stream": "stdout",
       "text": [
        "\n",
        "/Users/Rylan/cisc/creamTeam/donutData/finalOptData/gaussOutput/finalOpt2_200it_eff5k/finalOpt2_225.0000.dat"
       ]
      },
      {
       "output_type": "stream",
       "stream": "stdout",
       "text": [
        "\n",
        "/Users/Rylan/cisc/creamTeam/donutData/finalOptData/gaussOutput/finalOpt2_200it_eff5k/finalOpt2_226.0000.dat"
       ]
      },
      {
       "output_type": "stream",
       "stream": "stdout",
       "text": [
        "\n",
        "/Users/Rylan/cisc/creamTeam/donutData/finalOptData/gaussOutput/finalOpt2_200it_eff5k/finalOpt2_227.0000.dat"
       ]
      },
      {
       "output_type": "stream",
       "stream": "stdout",
       "text": [
        "\n",
        "/Users/Rylan/cisc/creamTeam/donutData/finalOptData/gaussOutput/finalOpt2_200it_eff5k/finalOpt2_228.0000.dat"
       ]
      },
      {
       "output_type": "stream",
       "stream": "stdout",
       "text": [
        "\n",
        "/Users/Rylan/cisc/creamTeam/donutData/finalOptData/gaussOutput/finalOpt2_200it_eff5k/finalOpt2_229.0000.dat"
       ]
      },
      {
       "output_type": "stream",
       "stream": "stdout",
       "text": [
        "\n",
        "/Users/Rylan/cisc/creamTeam/donutData/finalOptData/gaussOutput/finalOpt2_200it_eff5k/finalOpt2_230.0000.dat"
       ]
      },
      {
       "output_type": "stream",
       "stream": "stdout",
       "text": [
        "\n",
        "/Users/Rylan/cisc/creamTeam/donutData/finalOptData/gaussOutput/finalOpt2_200it_eff5k/finalOpt2_231.0000.dat"
       ]
      },
      {
       "output_type": "stream",
       "stream": "stdout",
       "text": [
        "\n",
        "/Users/Rylan/cisc/creamTeam/donutData/finalOptData/gaussOutput/finalOpt2_200it_eff5k/finalOpt2_232.0000.dat"
       ]
      },
      {
       "output_type": "stream",
       "stream": "stdout",
       "text": [
        "\n",
        "/Users/Rylan/cisc/creamTeam/donutData/finalOptData/gaussOutput/finalOpt2_200it_eff5k/finalOpt2_233.0000.dat"
       ]
      },
      {
       "output_type": "stream",
       "stream": "stdout",
       "text": [
        "\n",
        "/Users/Rylan/cisc/creamTeam/donutData/finalOptData/gaussOutput/finalOpt2_200it_eff5k/finalOpt2_234.0000.dat"
       ]
      },
      {
       "output_type": "stream",
       "stream": "stdout",
       "text": [
        "\n",
        "/Users/Rylan/cisc/creamTeam/donutData/finalOptData/gaussOutput/finalOpt2_200it_eff5k/finalOpt2_235.0000.dat"
       ]
      },
      {
       "output_type": "stream",
       "stream": "stdout",
       "text": [
        "\n",
        "/Users/Rylan/cisc/creamTeam/donutData/finalOptData/gaussOutput/finalOpt2_200it_eff5k/finalOpt2_236.0000.dat"
       ]
      },
      {
       "output_type": "stream",
       "stream": "stdout",
       "text": [
        "\n",
        "/Users/Rylan/cisc/creamTeam/donutData/finalOptData/gaussOutput/finalOpt2_200it_eff5k/finalOpt2_237.0000.dat"
       ]
      },
      {
       "output_type": "stream",
       "stream": "stdout",
       "text": [
        "\n",
        "/Users/Rylan/cisc/creamTeam/donutData/finalOptData/gaussOutput/finalOpt2_200it_eff5k/finalOpt2_238.0000.dat"
       ]
      },
      {
       "output_type": "stream",
       "stream": "stdout",
       "text": [
        "\n",
        "/Users/Rylan/cisc/creamTeam/donutData/finalOptData/gaussOutput/finalOpt2_200it_eff5k/finalOpt2_239.0000.dat"
       ]
      },
      {
       "output_type": "stream",
       "stream": "stdout",
       "text": [
        "\n",
        "/Users/Rylan/cisc/creamTeam/donutData/finalOptData/gaussOutput/finalOpt2_200it_eff5k/finalOpt2_240.0000.dat"
       ]
      },
      {
       "output_type": "stream",
       "stream": "stdout",
       "text": [
        "\n",
        "/Users/Rylan/cisc/creamTeam/donutData/finalOptData/gaussOutput/finalOpt2_200it_eff5k/finalOpt2_241.0000.dat"
       ]
      },
      {
       "output_type": "stream",
       "stream": "stdout",
       "text": [
        "\n",
        "/Users/Rylan/cisc/creamTeam/donutData/finalOptData/gaussOutput/finalOpt2_200it_eff5k/finalOpt2_242.0000.dat"
       ]
      },
      {
       "output_type": "stream",
       "stream": "stdout",
       "text": [
        "\n",
        "/Users/Rylan/cisc/creamTeam/donutData/finalOptData/gaussOutput/finalOpt2_200it_eff5k/finalOpt2_243.0000.dat"
       ]
      },
      {
       "output_type": "stream",
       "stream": "stdout",
       "text": [
        "\n",
        "/Users/Rylan/cisc/creamTeam/donutData/finalOptData/gaussOutput/finalOpt2_200it_eff5k/finalOpt2_244.0000.dat"
       ]
      },
      {
       "output_type": "stream",
       "stream": "stdout",
       "text": [
        "\n",
        "/Users/Rylan/cisc/creamTeam/donutData/finalOptData/gaussOutput/finalOpt2_200it_eff5k/finalOpt2_245.0000.dat"
       ]
      },
      {
       "output_type": "stream",
       "stream": "stdout",
       "text": [
        "\n",
        "/Users/Rylan/cisc/creamTeam/donutData/finalOptData/gaussOutput/finalOpt2_200it_eff5k/finalOpt2_246.0000.dat"
       ]
      },
      {
       "output_type": "stream",
       "stream": "stdout",
       "text": [
        "\n",
        "/Users/Rylan/cisc/creamTeam/donutData/finalOptData/gaussOutput/finalOpt2_200it_eff5k/finalOpt2_247.0000.dat"
       ]
      },
      {
       "output_type": "stream",
       "stream": "stdout",
       "text": [
        "\n",
        "/Users/Rylan/cisc/creamTeam/donutData/finalOptData/gaussOutput/finalOpt2_200it_eff5k/finalOpt2_248.0000.dat"
       ]
      },
      {
       "output_type": "stream",
       "stream": "stdout",
       "text": [
        "\n",
        "/Users/Rylan/cisc/creamTeam/donutData/finalOptData/gaussOutput/finalOpt2_200it_eff5k/finalOpt2_249.0000.dat"
       ]
      },
      {
       "output_type": "stream",
       "stream": "stdout",
       "text": [
        "\n",
        "/Users/Rylan/cisc/creamTeam/donutData/finalOptData/gaussOutput/finalOpt2_200it_eff5k/finalOpt2_250.0000.dat"
       ]
      },
      {
       "output_type": "stream",
       "stream": "stdout",
       "text": [
        "\n",
        "/Users/Rylan/cisc/creamTeam/donutData/finalOptData/gaussOutput/finalOpt2_200it_eff5k/finalOpt2_251.0000.dat"
       ]
      },
      {
       "output_type": "stream",
       "stream": "stdout",
       "text": [
        "\n",
        "/Users/Rylan/cisc/creamTeam/donutData/finalOptData/gaussOutput/finalOpt2_200it_eff5k/finalOpt2_252.0000.dat"
       ]
      },
      {
       "output_type": "stream",
       "stream": "stdout",
       "text": [
        "\n",
        "/Users/Rylan/cisc/creamTeam/donutData/finalOptData/gaussOutput/finalOpt2_200it_eff5k/finalOpt2_253.0000.dat"
       ]
      },
      {
       "output_type": "stream",
       "stream": "stdout",
       "text": [
        "\n",
        "/Users/Rylan/cisc/creamTeam/donutData/finalOptData/gaussOutput/finalOpt2_200it_eff5k/finalOpt2_254.0000.dat"
       ]
      },
      {
       "output_type": "stream",
       "stream": "stdout",
       "text": [
        "\n",
        "/Users/Rylan/cisc/creamTeam/donutData/finalOptData/gaussOutput/finalOpt2_200it_eff5k/finalOpt2_255.0000.dat"
       ]
      },
      {
       "output_type": "stream",
       "stream": "stdout",
       "text": [
        "\n",
        "/Users/Rylan/cisc/creamTeam/donutData/finalOptData/gaussOutput/finalOpt2_200it_eff5k/finalOpt2_256.0000.dat"
       ]
      },
      {
       "output_type": "stream",
       "stream": "stdout",
       "text": [
        "\n",
        "256"
       ]
      },
      {
       "output_type": "stream",
       "stream": "stdout",
       "text": [
        "\n"
       ]
      }
     ],
     "prompt_number": 3
    },
    {
     "cell_type": "code",
     "collapsed": false,
     "input": [
      "[print(len(datList[x])) for x in range(int(nProc/50))]"
     ],
     "language": "python",
     "metadata": {},
     "outputs": [
      {
       "output_type": "stream",
       "stream": "stdout",
       "text": [
        "1\n",
        "1\n",
        "1\n",
        "1\n",
        "1\n"
       ]
      },
      {
       "metadata": {},
       "output_type": "pyout",
       "prompt_number": 4,
       "text": [
        "[None, None, None, None, None]"
       ]
      }
     ],
     "prompt_number": 4
    },
    {
     "cell_type": "code",
     "collapsed": false,
     "input": [
      "avEff, allEff, spEff, hermEff, monEff, cubEff, modEff = [],[],[],[],[],[],[]\n",
      "avErr, allErr, spErr, hermErr, monErr, cubErr, modErr = [],[],[],[],[],[],[]\n",
      "\n",
      "xvals, allavg, spavg, hermavg, monavg, cubavg, modavg = [],[],[],[],[],[],[]\n",
      "nFiles,nData,imax,dminErr = 0,0,0,0\n",
      "dMin = 1.0\n",
      "dMax = 0.0\n",
      "kBest = kStan\n",
      "keyboards = [[] for x in range(nProc)]\n",
      "allOpts = [[] for x in range(nProc*5)]\n",
      "\n",
      "j=0\n",
      "for dlist in datList:\n",
      "    i = 0\n",
      "    for dat in dlist:\n",
      "        meta, eff = dat.PythonData()\n",
      "        nFiles += 1\n",
      "        for keyboard, d in eff:\n",
      "            keyboards[j].append(keyboard)\n",
      "            nData+=1\n",
      "            spEff.append(1-d['spatial'].Fitness())\n",
      "            allEff.append(spEff[-1])\n",
      "            allOpts[j*5].append(spEff[-1])\n",
      "            modEff.append(1-d['modCubic'].Fitness())\n",
      "            allEff.append(modEff[-1])\n",
      "            allOpts[j*5+1].append(modEff[-1])\n",
      "            monEff.append(1-d['monotonic'].Fitness())\n",
      "            allEff.append(monEff[-1])\n",
      "            allOpts[j*5+2].append(monEff[-1])\n",
      "            hermEff.append(1-d['hermite'].Fitness())\n",
      "            allEff.append(hermEff[-1])\n",
      "            allOpts[j*5+3].append(hermEff[-1])\n",
      "            cubEff.append(1-d['cubic'].Fitness())\n",
      "            allEff.append(cubEff[-1])\n",
      "            allOpts[j*5+4].append(cubEff[-1])\n",
      "            avEff.append((spEff[-1]+hermEff[-1]+monEff[-1]+cubEff[-1]+modEff[-1])/5)\n",
      "            \n",
      "            spErr.append(d['spatial'].Error())\n",
      "            hermErr.append(d['hermite'].Error())\n",
      "            monErr.append(d['monotonic'].Error())\n",
      "            cubErr.append(d['cubic'].Error())\n",
      "            modErr.append(d['modCubic'].Error())\n",
      "            avErr.append(spErr[-1]/sqrt(5))  \n",
      "            \n",
      "            allavg.append((i,avEff[-1],avErr[-1])) \n",
      "            spavg.append((i,spEff[-1],spErr[-1]))\n",
      "            hermavg.append((i,hermEff[-1],hermErr[-1]))\n",
      "            monavg.append((i,monEff[-1],monErr[-1]))\n",
      "            cubavg.append((i,cubEff[-1],cubErr[-1]))\n",
      "            modavg.append((i,modEff[-1],modErr[-1]))\n",
      "        \n",
      "            if avEff[-1] < dMin:\n",
      "                dMin = avEff[-1]\n",
      "                dMinErr = avErr[-1]\n",
      "                kBest = keyboard\n",
      "                \n",
      "            if avEff[-1] > dMax:\n",
      "                dMax = avEff[-1]\n",
      "                kWorst = keyboard\n",
      "            \n",
      "            xvals.append(i)\n",
      "            i+=1            \n",
      "        \n",
      "        if i > imax:\n",
      "            imax = i\n",
      "    j+=1\n",
      "        \n",
      "        \n",
      "effMin,effMax = [],[]\n",
      "effMax.append(0)\n",
      "effMin.append(1)\n",
      "[effMin.append(allEff[i]) for i in range(len(allEff)) if allEff[i] < effMin[-1]]\n",
      "[effMax.append(allEff[i]) for i in range(len(allEff)) if allEff[i] > effMax[-1]]\n",
      "emin = effMin[-1]\n",
      "emax = effMax[-1]\n",
      "escale = emax-emin\n",
      "print(\"Max =\", emax,\"\\nMin = \",emin)\n",
      "\n",
      "print(nFiles, \"files loaded.\")\n",
      "print(nData, \"data points loaded.\")\n",
      "\n",
      "print(\"kWorstEff =\",dMax,\" kBestEff =\",dMin)\n",
      "\n",
      "n1, b, p = plt.hist(allEff,50,label=\"avg\",normed=False,alpha=1.0)\n",
      "plt.close()\n",
      "\n",
      "plt.figure(figsize=(10,7))\n",
      "plt.hist(avEff,b,label=\"avgerage\",normed=False,alpha=1.0,color=c1)\n",
      "plt.hist(spEff,b,label=\"spatial\",normed=False,alpha=0.88,color=c2)\n",
      "plt.hist(hermEff,b,label=\"hermite\",normed=False,alpha=0.76,color=c3)\n",
      "plt.hist(monEff,b,label=\"monotonic\",normed=False,alpha=0.64,color=c4)\n",
      "plt.hist(cubEff,b,label=\"cubic\",normed=False,alpha=0.52,color=c5)\n",
      "plt.hist(modEff,b,label=\"modCubic\",normed=False,alpha=0.4,color=c6)\n",
      "plt.legend(loc=\"upper right\",prop={'size':17})\n",
      "\n",
      "savefig('/Users/Rylan/cisc/creamTeam/DonutDocs/plots/finalPlots/optimizatinDistribution.pdf')\n",
      "plt.show()"
     ],
     "language": "python",
     "metadata": {},
     "outputs": [
      {
       "output_type": "stream",
       "stream": "stdout",
       "text": [
        "Max = 0.23889000000000338 \n",
        "Min =  0.07139000000000584\n",
        "256 files loaded.\n",
        "12800 data points loaded.\n",
        "kWorstEff = 0.21681000000000356  kBestEff = 0.08010000000000779\n"
       ]
      },
      {
       "metadata": {},
       "output_type": "display_data",
       "png": "[encoded data removed]",
       "text": [
        "<matplotlib.figure.Figure at 0x120cb39b0>"
       ]
      }
     ],
     "prompt_number": 5
    },
    {
     "cell_type": "code",
     "collapsed": false,
     "input": [
      "allAvg,spAvg,hermAvg,monAvg,cubAvg,modAvg,minEff,maxEff = [],[],[],[],[],[],[],[]\n",
      "allAvgErr,spAvgErr,hermAvgErr,monAvgErr,cubAvgErr,modAvgErr,minErr,maxErr = [],[],[],[],[],[],[],[]\n",
      "\n",
      "for i in range(imax):\n",
      "    allAvg.append(0)\n",
      "    npts = 0\n",
      "    minE = 1\n",
      "    maxE = 0\n",
      "    for x in allavg:\n",
      "        if x[0] == i:\n",
      "            allAvg[i] += x[1]\n",
      "            npts += 1\n",
      "            if x[1] < minE:\n",
      "                minE = x[1]\n",
      "                minEr = x[2]\n",
      "            if x[1] > maxE:\n",
      "                maxE = x[1]\n",
      "                maxEr = x[2]\n",
      "    minEff.append(minE)\n",
      "    maxEff.append(maxE)\n",
      "    minErr.append(minEr)\n",
      "    maxErr.append(maxEr)\n",
      "    allAvg[i] = allAvg[i]/npts\n",
      "    allAvgErr.append(avErr[i]/sqrt(npts))\n",
      "    \n",
      "    spAvg.append(0)\n",
      "    npts = 0\n",
      "    for x in spavg:\n",
      "        if x[0] == i:\n",
      "            spAvg[i] += x[1]\n",
      "            npts += 1\n",
      "    spAvg[i] = spAvg[i]/npts\n",
      "    spAvgErr.append(spErr[i]/sqrt(npts))\n",
      "    \n",
      "    hermAvg.append(0)\n",
      "    npts = 0\n",
      "    for x in hermavg:\n",
      "        if x[0] == i:\n",
      "            hermAvg[i] += x[1]\n",
      "            npts += 1\n",
      "    hermAvg[i] = hermAvg[i]/npts\n",
      "    hermAvgErr.append(hermErr[i]/sqrt(npts))\n",
      "            \n",
      "    monAvg.append(0)      \n",
      "    npts = 0\n",
      "    for x in monavg:\n",
      "        if x[0] == i:\n",
      "            monAvg[i] += x[1]\n",
      "            npts += 1\n",
      "    monAvg[i] = monAvg[i]/npts\n",
      "    monAvgErr.append(monErr[i]/sqrt(npts))\n",
      "    \n",
      "    cubAvg.append(0)\n",
      "    npts = 0\n",
      "    for x in cubavg:\n",
      "        if x[0] == i:\n",
      "            cubAvg[i] += x[1]\n",
      "            npts += 1\n",
      "    cubAvg[i] = cubAvg[i]/npts\n",
      "    cubAvgErr.append(cubErr[i]/sqrt(npts))\n",
      "    \n",
      "    modAvg.append(0)\n",
      "    npts = 0\n",
      "    for x in modavg:\n",
      "        if x[0] == i:\n",
      "            modAvg[i] += x[1]\n",
      "            npts += 1\n",
      "    modAvg[i] = modAvg[i]/npts\n",
      "    modAvgErr.append(modErr[i]/sqrt(npts))"
     ],
     "language": "python",
     "metadata": {},
     "outputs": [],
     "prompt_number": 6
    },
    {
     "cell_type": "code",
     "collapsed": false,
     "input": [
      "lfs = 19\n",
      "tfs = 15\n",
      "legfs = 15\n",
      "xp = 10\n",
      "yp = 10\n",
      "lw = 2.5\n",
      "ls1 = '-'\n",
      "ls2 = '-'\n",
      "alph = 0.27\n",
      "\n",
      "fig,ax = plt.subplots(figsize=(10,7))\n",
      "for i in range(nProc):\n",
      "    if i%37 == 0:\n",
      "        plt.plot(range(imax),allOpts[i*5],linestyle=ls2,linewidth=1,color=c1,alpha=alph)\n",
      "        plt.plot(range(imax),allOpts[i*5+1],linestyle=ls2,linewidth=1,color=c4,alpha=alph)\n",
      "        plt.plot(range(imax),allOpts[i*5+2],linestyle=ls2,linewidth=1,color=c3,alpha=alph)\n",
      "        plt.plot(range(imax),allOpts[i*5+3],linestyle=ls2,linewidth=1,color=c2,alpha=alph)\n",
      "        plt.plot(range(imax),allOpts[i*5+4],linestyle=ls2,linewidth=1,color=c5,alpha=alph)\n",
      "#plt.plot(range(imax),allAvg,linestyle='-',linewidth=3,label='Total Average')\n",
      "plt.plot(range(imax),spAvg,linestyle=ls1,linewidth=lw,label='Spatial Average',color=c1)\n",
      "plt.plot(range(imax),modAvg,linestyle=ls1,linewidth=lw,label='ModCubic Average',color=c4)\n",
      "plt.plot(range(imax),monAvg,linestyle=ls1,linewidth=lw,label='Monotonic Average',color=c3)\n",
      "plt.plot(range(imax),hermAvg,linestyle=ls1,linewidth=lw,label='Hermite Average',color=c2)\n",
      "plt.plot(range(imax),cubAvg,linestyle=ls1,linewidth=lw,label='Cubic Average',color=c5)\n",
      "#plt.plot(range(imax),allAvg,linestyle='-',linewidth=3)\n",
      "legend(loc='upper right',prop={'size':legfs})\n",
      "plt.ylabel('Error Rate',fontsize=lfs)\n",
      "plt.xlabel('Optimization Iteration',fontsize=lfs)\n",
      "plt.xticks(fontsize=tfs)\n",
      "plt.yticks(fontsize=tfs)\n",
      "ax.xaxis.labelpad = xp\n",
      "ax.yaxis.labelpad = yp\n",
      "#plt.ylim(emin-escale*0.05,emax-0.01)\n",
      "plt.xlim((0,imax))\n",
      "#savefig('/Users/Rylan/cisc/creamTeam/DonutDocs/plots/finalPlots/avgIntrp+AllOptimizationRuns_vs_iteration_gauss.pdf')\n",
      "plt.show()"
     ],
     "language": "python",
     "metadata": {},
     "outputs": [
      {
       "metadata": {},
       "output_type": "display_data",
       "png": "[encoded data removed]",
       "text": [
        "<matplotlib.figure.Figure at 0x12155fd30>"
       ]
      }
     ],
     "prompt_number": 11
    },
    {
     "cell_type": "code",
     "collapsed": false,
     "input": [
      "#print(imax)\n",
      "xp = 11\n",
      "yp = 11\n",
      "qwertyEff = 0.16232299999998379\n",
      "#dvorEff = 0.121\n",
      "fix,ax = plt.subplots(figsize=(10,6))\n",
      "plot([0,imax],[qwertyEff,qwertyEff], linestyle='--', linewidth=2,alpha=0.7,color=c6)\n",
      "#plot([0,imax],[dvorEff,dvorEff],linestyle='--',linewidth=2,alpha=0.7,color=c5)\n",
      "plt.errorbar(range(imax),allAvg,yerr=allAvgErr,fmt='-o',label='Average',color=c1)\n",
      "plt.errorbar(range(imax),minEff,yerr=minErr,fmt='-',label='Minimum',color=c4)\n",
      "plt.errorbar(range(imax),maxEff,yerr=maxErr,fmt='-',label='Maximum',color=c3)\n",
      "plt.ylabel('Error Rate',fontsize=lfs)\n",
      "plt.xlabel('Optimization Iteration',fontsize=lfs)\n",
      "legend(loc='lower left',prop={'size':legfs})\n",
      "plt.xticks(fontsize=tfs)\n",
      "plt.yticks(fontsize=tfs)\n",
      "ax.xaxis.labelpad = xp\n",
      "ax.yaxis.labelpad = yp\n",
      "#plt.ylim(0.07,0.14)\n",
      "plt.xlim((0,imax))\n",
      "\n",
      "textx = imax*(0.75)\n",
      "ax.annotate('QWERTY', xy=(textx,qwertyEff), xytext=(textx,qwertyEff-0.01),size=17)\n",
      "#ax.annotate('Dvorak', xy=(150,dvorEff), xytext=(160,dvorEff+0.002),size=17)\n",
      "\n",
      "savefig('/Users/Rylan/cisc/creamTeam/DonutDocs/plots/finalPlots/avgOptimization_vs_iteration_gauss.pdf')\n",
      "show()"
     ],
     "language": "python",
     "metadata": {},
     "outputs": [
      {
       "metadata": {},
       "output_type": "display_data",
       "png": "[encoded data removed]",
       "text": [
        "<matplotlib.figure.Figure at 0x11fa506a0>"
       ]
      }
     ],
     "prompt_number": 10
    },
    {
     "cell_type": "code",
     "collapsed": false,
     "input": [
      "#bearclaw.DrawKeyboard(kBest,wordlist=w,colormap=cmm,figsize=(8,4),nopalette=False,saveas=\"/Users/Rylan/cisc/creamTeam/DonutDocs/plots/finalPlots/finalKeyboard_m_gauss.pdf\")\n",
      "bearclaw.DrawKeyboard(kBest,wordlist=w,colormap=cmg,figsize=(8,4),nopalette=False,saveas=\"/Users/Rylan/cisc/creamTeam/DonutDocs/plots/finalPlots/finalKeyboard_g_gauss.pdf\")\n",
      "#bearclaw.DrawKeyboard(kBest,wordlist=w,colormap=cmg,figsize=(8,4),nopalette=False)\n",
      "#kBest.SaveToFile('/Users/Rylan/cisc/creamTeam/keyboardFiles/goodKeyboard.dat')\n",
      "\n",
      "#bearclaw.DrawKeyboard(kBest,wordlist=w,colormap=cmm,figsize=(8,4),nopalette=False,saveas=\"/Users/Rylan/cisc/creamTeam/DonutDocs/plots/finalPlots/worstKeyboard_m_gauss.pdf\")\n",
      "#bearclaw.DrawKeyboard(kWorst,wordlist=w,colormap=cmg,figsize=(8,4),nopalette=False,saveas=\"/Users/Rylan/cisc/creamTeam/DonutDocs/plots/finalPlots/worstKeyboard_g_gauss.pdf\")\n",
      "bearclaw.DrawKeyboard(kWorst,wordlist=w,colormap=cmg,figsize=(8,4),nopalette=False)\n",
      "#kWorst.SaveToFile('/Users/Rylan/cisc/creamTeam/keyboardFiles/badKeyboard.dat')\n"
     ],
     "language": "python",
     "metadata": {},
     "outputs": [
      {
       "metadata": {},
       "output_type": "display_data",
       "png": "[encoded data removed]",
       "text": [
        "<matplotlib.figure.Figure at 0x11fa75390>"
       ]
      },
      {
       "metadata": {},
       "output_type": "display_data",
       "png": "[encoded data removed]",
       "text": [
        "<matplotlib.figure.Figure at 0x11fa753c8>"
       ]
      }
     ],
     "prompt_number": 17
    },
    {
     "cell_type": "code",
     "collapsed": false,
     "input": [
      "plt.figure(figsize=(11.6,7))\n",
      "hist2d(xvals, avEff,bins=50,cmap=cmm)\n",
      "plt.ylabel('Error Rate',fontsize=14,fontweight='bold')\n",
      "plt.xlabel('Optimization Iteration',fontsize=14,fontweight='bold')\n",
      "plt.xticks(fontsize=14)\n",
      "plt.yticks(fontsize=14)\n",
      "colorbar()\n",
      "#savefig('/Users/Rylan/cisc/creamTeam/DonutDocs/plots/allOptimizationIterations_allInterps.pdf')"
     ],
     "language": "python",
     "metadata": {},
     "outputs": [
      {
       "metadata": {},
       "output_type": "pyout",
       "prompt_number": 12,
       "text": [
        "<matplotlib.colorbar.Colorbar at 0x121016ef0>"
       ]
      },
      {
       "metadata": {},
       "output_type": "display_data",
       "png": "[encoded data removed]",
       "text": [
        "<matplotlib.figure.Figure at 0x12199db38>"
       ]
      }
     ],
     "prompt_number": 12
    },
    {
     "cell_type": "code",
     "collapsed": false,
     "input": [
      "filenameQ = \"/Users/Rylan/cisc/creamTeam/donutData/systematics/finalEff_qwertyEff.dat\"\n",
      "filenameD = \"/Users/Rylan/cisc/creamTeam/donutData/systematics/finalEff_dvorakEff.dat\"\n",
      "if os.path.exists(filenameQ):\n",
      "    #print(filenameQ)\n",
      "    datQ = cruller.TrainingDataFileFormat()\n",
      "    datQ.LoadFromFile(filenameQ)\n",
      "    \n",
      "print(datQ.PythonData()[1][0][1])\n",
      "    \n",
      "if os.path.exists(filenameD):\n",
      "    #print(filenameD)\n",
      "    datD = cruller.TrainingDataFileFormat()\n",
      "    datD.LoadFromFile(filenameD)\n",
      "    \n",
      "metaQ, effQ = datQ.PythonData()\n",
      "for keyboard, d in effQ:\n",
      "    keyboardsQ = keyboard\n",
      "    spEffQ = 1-d['spatial'].Fitness()\n",
      "    modEffQ = 1-d['modCubic'].Fitness()\n",
      "    monEffQ = 1-d['monotonic'].Fitness()\n",
      "    hermEffQ = 1-d['hermite'].Fitness()\n",
      "    cubEffQ = 1-d['cubic'].Fitness()\n",
      "    avEffQ = (spEffQ+hermEffQ+monEffQ+cubEffQ+modEffQ)/5\n",
      "    avErrQ = d['spatial'].Error()\n",
      "    \n",
      "metaD, effD = datD.PythonData()\n",
      "for keyboard, d in effD:\n",
      "    keyboardsD = keyboard\n",
      "    spEffD = 1-d['spatial'].Fitness()\n",
      "    modEffD = 1-d['modCubic'].Fitness()\n",
      "    monEffD = 1-d['monotonic'].Fitness()\n",
      "    hermEffD = 1-d['hermite'].Fitness()\n",
      "    cubEffD = 1-d['cubic'].Fitness()\n",
      "    avEffD = (spEffD+hermEffD+monEffD+cubEffD+modEffD)/5\n",
      "    avErrD = d['spatial'].Error()\n",
      "    \n",
      "print(\"QWERTY Eff =\",avEffQ,\"+/-\",avErrQ)\n",
      "print(\"Dvorak Eff =\",avEffD,\"+/-\",avErrD)"
     ],
     "language": "python",
     "metadata": {},
     "outputs": [
      {
       "output_type": "stream",
       "stream": "stdout",
       "text": [
        "{'spatial': <donut.cruller.FitnessResult object at 0x10daa2138>, 'modCubic': <donut.cruller.FitnessResult object at 0x10daa2228>, 'cubic': <donut.cruller.FitnessResult object at 0x10daa20c0>, 'monotonic': <donut.cruller.FitnessResult object at 0x10daa22a0>, 'hermite': <donut.cruller.FitnessResult object at 0x10daa21b0>}\n",
        "QWERTY Eff ="
       ]
      },
      {
       "output_type": "stream",
       "stream": "stdout",
       "text": [
        " 0.16232299999998379 +/- 0.0017911859810605818\n",
        "Dvorak Eff = 0.27805299999999283 +/- 0.0025728611386448322\n"
       ]
      }
     ],
     "prompt_number": 18
    },
    {
     "cell_type": "code",
     "collapsed": false,
     "input": [
      "print(\"Initial Avg Error Rate:\",allAvg[0])\n",
      "print(\"Final Avg Error Rate:  \",allAvg[-1])"
     ],
     "language": "python",
     "metadata": {},
     "outputs": [
      {
       "output_type": "stream",
       "stream": "stdout",
       "text": [
        "Initial Avg Error Rate: 0.13197828125000563\n",
        "Final Avg Error Rate:   0.09655636718750685\n"
       ]
      }
     ],
     "prompt_number": 16
    },
    {
     "cell_type": "code",
     "collapsed": false,
     "input": [],
     "language": "python",
     "metadata": {},
     "outputs": []
    }
   ],
   "metadata": {}
  }
 ]
}